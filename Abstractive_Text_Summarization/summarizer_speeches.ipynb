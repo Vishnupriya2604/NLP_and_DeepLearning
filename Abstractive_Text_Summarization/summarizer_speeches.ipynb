{
 "cells": [
  {
   "cell_type": "markdown",
   "metadata": {
    "colab_type": "text",
    "id": "6AnFGD-dMRwr"
   },
   "source": [
    "\n",
    "# Text Summarization of Speeches\n",
    "In this notebook I will write summaries with the help of my Seq2Seq model in Summarizer.py.\n",
    "#### Vishnupriya Venkateswaran - 04/13/2019"
   ]
  },
  {
   "cell_type": "code",
   "execution_count": 1,
   "metadata": {},
   "outputs": [],
   "source": [
    "import nltk"
   ]
  },
  {
   "cell_type": "code",
   "execution_count": 2,
   "metadata": {
    "colab": {
     "autoexec": {
      "startup": false,
      "wait_interval": 0
     }
    },
    "colab_type": "code",
    "id": "QjDjpDNUMRws"
   },
   "outputs": [
    {
     "name": "stderr",
     "output_type": "stream",
     "text": [
      "/Applications/anaconda3/lib/python3.6/site-packages/h5py/__init__.py:36: FutureWarning: Conversion of the second argument of issubdtype from `float` to `np.floating` is deprecated. In future, it will be treated as `np.float64 == np.dtype(float).type`.\n",
      "  from ._conv import register_converters as _register_converters\n",
      "WARNING: Logging before flag parsing goes to stderr.\n",
      "W0413 15:10:40.215856 140736277070656 __init__.py:56] Some hub symbols are not available because TensorFlow version is less than 1.14\n"
     ]
    }
   ],
   "source": [
    "import os\n",
    "\n",
    "import pandas as pd\n",
    "import numpy as np\n",
    "import tensorflow as tf\n",
    "import tensorflow_hub as hub\n",
    "from collections import Counter\n",
    "import Summarizer\n",
    "import summarizer_data_utils\n",
    "import summarizer_model_utils"
   ]
  },
  {
   "cell_type": "code",
   "execution_count": 32,
   "metadata": {
    "colab": {
     "autoexec": {
      "startup": false,
      "wait_interval": 0
     },
     "base_uri": "https://localhost:8080/",
     "height": 34
    },
    "colab_type": "code",
    "executionInfo": {
     "elapsed": 660,
     "status": "ok",
     "timestamp": 1526289170787,
     "user": {
      "displayName": "Thomas Schmied",
      "photoUrl": "https://lh3.googleusercontent.com/a/default-user=s128",
      "userId": "102636220151368904258"
     },
     "user_tz": -120
    },
    "id": "iRv2aKC5MRwx",
    "outputId": "4a6ef260-8651-42c7-fa02-beed4c695d24"
   },
   "outputs": [
    {
     "name": "stdout",
     "output_type": "stream",
     "text": [
      "1.13.1\n"
     ]
    }
   ],
   "source": [
    "print(tf.__version__)"
   ]
  },
  {
   "cell_type": "markdown",
   "metadata": {
    "colab_type": "text",
    "id": "15PDBfQDMRw2"
   },
   "source": [
    "### Reading and exploring"
   ]
  },
  {
   "cell_type": "code",
   "execution_count": 81,
   "metadata": {
    "colab": {
     "autoexec": {
      "startup": false,
      "wait_interval": 0
     }
    },
    "colab_type": "code",
    "id": "GsIA4RryMRw2"
   },
   "outputs": [],
   "source": [
    "# Read the dataset\n",
    "data = pd.read_csv('./Speeches.csv',\n",
    "                   encoding='cp1250')"
   ]
  },
  {
   "cell_type": "code",
   "execution_count": 83,
   "metadata": {
    "colab": {
     "autoexec": {
      "startup": false,
      "wait_interval": 0
     },
     "base_uri": "https://localhost:8080/",
     "height": 306
    },
    "colab_type": "code",
    "executionInfo": {
     "elapsed": 494,
     "status": "ok",
     "timestamp": 1526289181068,
     "user": {
      "displayName": "Thomas Schmied",
      "photoUrl": "https://lh3.googleusercontent.com/a/default-user=s128",
      "userId": "102636220151368904258"
     },
     "user_tz": -120
    },
    "id": "K0-E37k7MRw8",
    "outputId": "5fdd7e3a-38fc-4370-ac79-8638dc8ca328"
   },
   "outputs": [
    {
     "data": {
      "text/html": [
       "<div>\n",
       "<style scoped>\n",
       "    .dataframe tbody tr th:only-of-type {\n",
       "        vertical-align: middle;\n",
       "    }\n",
       "\n",
       "    .dataframe tbody tr th {\n",
       "        vertical-align: top;\n",
       "    }\n",
       "\n",
       "    .dataframe thead th {\n",
       "        text-align: right;\n",
       "    }\n",
       "</style>\n",
       "<table border=\"1\" class=\"dataframe\">\n",
       "  <thead>\n",
       "    <tr style=\"text-align: right;\">\n",
       "      <th></th>\n",
       "      <th>title</th>\n",
       "      <th>content</th>\n",
       "    </tr>\n",
       "  </thead>\n",
       "  <tbody>\n",
       "    <tr>\n",
       "      <th>0</th>\n",
       "      <td>We are a strong nation, and we will maintain s...</td>\n",
       "      <td>For myself and for our Nation, I want to thank...</td>\n",
       "    </tr>\n",
       "    <tr>\n",
       "      <th>1</th>\n",
       "      <td>From time to time we've been tempted to believ...</td>\n",
       "      <td>Senator Hatfield, Mr. Chief Justice, Mr. Presi...</td>\n",
       "    </tr>\n",
       "    <tr>\n",
       "      <th>2</th>\n",
       "      <td>In another sense, our New Beginning is a conti...</td>\n",
       "      <td>Senator Mathias, Chief Justice Burger, Vice Pr...</td>\n",
       "    </tr>\n",
       "    <tr>\n",
       "      <th>3</th>\n",
       "      <td>A new breeze is blowing, and the old bipartisa...</td>\n",
       "      <td>Mr. Chief Justice, Mr. President, Vice Preside...</td>\n",
       "    </tr>\n",
       "    <tr>\n",
       "      <th>4</th>\n",
       "      <td>The world economy, the world environment, the ...</td>\n",
       "      <td>My fellow citizens, today we celebrate the mys...</td>\n",
       "    </tr>\n",
       "  </tbody>\n",
       "</table>\n",
       "</div>"
      ],
      "text/plain": [
       "                                               title  \\\n",
       "0  We are a strong nation, and we will maintain s...   \n",
       "1  From time to time we've been tempted to believ...   \n",
       "2  In another sense, our New Beginning is a conti...   \n",
       "3  A new breeze is blowing, and the old bipartisa...   \n",
       "4  The world economy, the world environment, the ...   \n",
       "\n",
       "                                             content  \n",
       "0  For myself and for our Nation, I want to thank...  \n",
       "1  Senator Hatfield, Mr. Chief Justice, Mr. Presi...  \n",
       "2  Senator Mathias, Chief Justice Burger, Vice Pr...  \n",
       "3  Mr. Chief Justice, Mr. President, Vice Preside...  \n",
       "4  My fellow citizens, today we celebrate the mys...  "
      ]
     },
     "execution_count": 83,
     "metadata": {},
     "output_type": "execute_result"
    }
   ],
   "source": [
    "# we are only going to use title and content.\n",
    "data['title']\n",
    "data.head()"
   ]
  },
  {
   "cell_type": "code",
   "execution_count": 86,
   "metadata": {
    "colab": {
     "autoexec": {
      "startup": false,
      "wait_interval": 0
     }
    },
    "colab_type": "code",
    "collapsed": true,
    "id": "J9D8Zd4_MRxq"
   },
   "outputs": [],
   "source": [
    "# renaming the column headers the title - > Summary and context --> Text \n",
    "data.rename(index = str, columns = {'title':'Summary', 'content':'Text'}, inplace = True)\n",
    "data = data[['Summary', 'Text']]"
   ]
  },
  {
   "cell_type": "code",
   "execution_count": 87,
   "metadata": {
    "colab": {
     "autoexec": {
      "startup": false,
      "wait_interval": 0
     },
     "base_uri": "https://localhost:8080/",
     "height": 204
    },
    "colab_type": "code",
    "executionInfo": {
     "elapsed": 565,
     "status": "ok",
     "timestamp": 1526289189478,
     "user": {
      "displayName": "Thomas Schmied",
      "photoUrl": "https://lh3.googleusercontent.com/a/default-user=s128",
      "userId": "102636220151368904258"
     },
     "user_tz": -120
    },
    "id": "n3thvZxTMRxt",
    "outputId": "a36194ad-7d91-4c1d-c92e-ce85580ca115"
   },
   "outputs": [
    {
     "data": {
      "text/html": [
       "<div>\n",
       "<style scoped>\n",
       "    .dataframe tbody tr th:only-of-type {\n",
       "        vertical-align: middle;\n",
       "    }\n",
       "\n",
       "    .dataframe tbody tr th {\n",
       "        vertical-align: top;\n",
       "    }\n",
       "\n",
       "    .dataframe thead th {\n",
       "        text-align: right;\n",
       "    }\n",
       "</style>\n",
       "<table border=\"1\" class=\"dataframe\">\n",
       "  <thead>\n",
       "    <tr style=\"text-align: right;\">\n",
       "      <th></th>\n",
       "      <th>Summary</th>\n",
       "      <th>Text</th>\n",
       "    </tr>\n",
       "  </thead>\n",
       "  <tbody>\n",
       "    <tr>\n",
       "      <th>0</th>\n",
       "      <td>We are a strong nation, and we will maintain s...</td>\n",
       "      <td>For myself and for our Nation, I want to thank...</td>\n",
       "    </tr>\n",
       "    <tr>\n",
       "      <th>1</th>\n",
       "      <td>From time to time we've been tempted to believ...</td>\n",
       "      <td>Senator Hatfield, Mr. Chief Justice, Mr. Presi...</td>\n",
       "    </tr>\n",
       "    <tr>\n",
       "      <th>2</th>\n",
       "      <td>In another sense, our New Beginning is a conti...</td>\n",
       "      <td>Senator Mathias, Chief Justice Burger, Vice Pr...</td>\n",
       "    </tr>\n",
       "    <tr>\n",
       "      <th>3</th>\n",
       "      <td>A new breeze is blowing, and the old bipartisa...</td>\n",
       "      <td>Mr. Chief Justice, Mr. President, Vice Preside...</td>\n",
       "    </tr>\n",
       "    <tr>\n",
       "      <th>4</th>\n",
       "      <td>The world economy, the world environment, the ...</td>\n",
       "      <td>My fellow citizens, today we celebrate the mys...</td>\n",
       "    </tr>\n",
       "  </tbody>\n",
       "</table>\n",
       "</div>"
      ],
      "text/plain": [
       "                                             Summary  \\\n",
       "0  We are a strong nation, and we will maintain s...   \n",
       "1  From time to time we've been tempted to believ...   \n",
       "2  In another sense, our New Beginning is a conti...   \n",
       "3  A new breeze is blowing, and the old bipartisa...   \n",
       "4  The world economy, the world environment, the ...   \n",
       "\n",
       "                                                Text  \n",
       "0  For myself and for our Nation, I want to thank...  \n",
       "1  Senator Hatfield, Mr. Chief Justice, Mr. Presi...  \n",
       "2  Senator Mathias, Chief Justice Burger, Vice Pr...  \n",
       "3  Mr. Chief Justice, Mr. President, Vice Preside...  \n",
       "4  My fellow citizens, today we celebrate the mys...  "
      ]
     },
     "execution_count": 87,
     "metadata": {},
     "output_type": "execute_result"
    }
   ],
   "source": [
    "data = data[['Summary', 'Text']]\n",
    "data.head()"
   ]
  },
  {
   "cell_type": "code",
   "execution_count": 88,
   "metadata": {
    "colab": {
     "autoexec": {
      "startup": false,
      "wait_interval": 0
     },
     "base_uri": "https://localhost:8080/",
     "height": 187
    },
    "colab_type": "code",
    "executionInfo": {
     "elapsed": 664,
     "status": "ok",
     "timestamp": 1526289191536,
     "user": {
      "displayName": "Thomas Schmied",
      "photoUrl": "https://lh3.googleusercontent.com/a/default-user=s128",
      "userId": "102636220151368904258"
     },
     "user_tz": -120
    },
    "id": "97yPpMhtMRxw",
    "outputId": "87a13350-0e54-458b-a20f-50928ac99562"
   },
   "outputs": [
    {
     "name": "stdout",
     "output_type": "stream",
     "text": [
      "We are a strong nation, and we will maintain strength so sufficient that it need not be proven in combat-a quiet strength based not merely on the size of an arsenal but on the nobility of ideas.\n",
      "From time to time we've been tempted to believe that society has become too complex to be managed by self-rule, that government by an elite group is superior to government for, by, and of the people.\n",
      "In another sense, our New Beginning is a continuation of that beginning created two centuries ago when, for the first time in history, government, the people said, was not our master, it is our servant; its only power that which we the people allow it to have.\n",
      "A new breeze is blowing, and the old bipartisanship must be made new again.\n",
      "The world economy, the world environment, the world AIDS crisis, the world arms race: they affect us all.\n",
      "With a new vision of Government, a new sense of responsibility, a new spirit of community, we will sustain America's journey.\n",
      "To all nations, we will speak for the values that gave our Nation birth.\n",
      "From the viewpoint of centuries, the questions that come to us are narrowed and few: Did our generation advance the cause of freedom? And did our character bring credit to that cause? These questions that judge us also unite us, because Americans of every party and background, Americans by choice and by birth are bound to one another in the cause of freedom.\n",
      "So to all the other peoples and governments who are watching today, from the grandest capitals to the small village where my father was born, know that America is a friend of each nation and every man, woman, and child who seeks a future of peace and dignity, and we are ready to lead once more.\n",
      "For the American people can no more meet the demands of today's world by acting alone than American soldiers could have met the forces of fascism or communism with muskets and militias.\n"
     ]
    }
   ],
   "source": [
    "# let's have a look. \n",
    "for x in data.Summary[:10]:\n",
    "    print(x)"
   ]
  },
  {
   "cell_type": "code",
   "execution_count": 89,
   "metadata": {
    "colab": {
     "autoexec": {
      "startup": false,
      "wait_interval": 0
     },
     "base_uri": "https://localhost:8080/",
     "height": 54
    },
    "colab_type": "code",
    "executionInfo": {
     "elapsed": 652,
     "status": "ok",
     "timestamp": 1526289193617,
     "user": {
      "displayName": "Thomas Schmied",
      "photoUrl": "https://lh3.googleusercontent.com/a/default-user=s128",
      "userId": "102636220151368904258"
     },
     "user_tz": -120
    },
    "id": "tJkeTnXIMRxz",
    "outputId": "1ee7308b-795f-476f-90bd-a8db826b1a02"
   },
   "outputs": [
    {
     "data": {
      "text/plain": [
       "'For myself and for our Nation, I want to thank my predecessor for all he has done to heal our land.\\nIn this outward and physical ceremony, we attest once again to the inner and spiritual strength of our Nation. As my high school teacher, Miss Julia Coleman, used to say, \"We must adjust to changing times and still hold to unchanging principles.\"\\nHere before me is the Bible used in the inauguration of our first President, in 1789, and I have just taken the oath of office on the Bible my mother gave me just a few years ago, opened to a timeless admonition from the ancient prophet Micah: \"He hath showed thee, O man, what is good; and what doth the Lord require of thee, but to do justly, and to love mercy, and to walk humbly with thy God.\"\\nThis inauguration ceremony marks a new beginning, a new dedication within our Government, and a new spirit among us all. A President may sense and proclaim that new spirit, but only a people can provide it.\\nTwo centuries ago, our Nation\\'s birth was a milestone in the long quest for freedom. But the bold and brilliant dream which excited the founders of this Nation still awaits its consummation. I have no new dream to set forth today, but rather urge a fresh faith in the old dream.\\nOurs was the first society openly to define itself in terms of both spirituality and human liberty. It is that unique self-definition which has given us an exceptional appeal, but it also imposes on us a special obligation to take on those moral duties which, when assumed, seem invariably to be in our own best interests.\\nYou have given me a great responsibility--to stay close to you, to be worthy of you, and to exemplify what you are. Let us create together a new national spirit of unity and trust. Your strength can compensate for my weakness, and your wisdom can help to minimize my mistakes.\\nLet us learn together and laugh together and work together and pray together, confident that in the end we will triumph together in the right.\\nThe American dream endures. We must once again have full faith in our country--and in one another. I believe America can be better. We can be even stronger than before.\\nLet our recent mistakes bring a resurgent commitment to the basic principles of our Nation, for we know that if we despise our own government, we have no future. We recall in special times when we have stood briefly, but magnificently, united. In those times no prize was beyond our grasp.\\nBut we cannot dwell upon remembered glory. We cannot afford to drift. We reject the prospect of failure or mediocrity or an inferior quality of life for any person. Our Government must at the same time be both competent and compassionate.\\nWe have already found a high degree of personal liberty, and we are now struggling to enhance equality of opportunity. Our commitment to human rights must be absolute, our laws fair, our national beauty preserved; the powerful must not persecute the weak, and human dignity must be enhanced.\\nWe have learned that more is not necessarily better, that even our great Nation has its recognized limits, and that we can neither answer all questions nor solve all problems. We cannot afford to do everything, nor can we afford to lack boldness as we meet the future. So, together, in a spirit of individual sacrifice for the common good, we must simply do our best.\\nOur Nation can be strong abroad only if it is strong at home. And we know that the best way to enhance freedom in other lands is to demonstrate here that our democratic system is worthy of emulation.\\nTo be true to ourselves, we must be true to others. We will not behave in foreign places so as to violate our rules and standards here at home, for we know that the trust which our Nation earns is essential to our strength.\\nThe world itself is now dominated by a new spirit. Peoples more numerous and more politically aware are craving, and now demanding, their place in the sun--not just for the benefit of their own physical condition, but for basic human rights.\\nThe passion for freedom is on the rise. Tapping this new spirit, there can be no nobler nor more ambitious task for America to undertake on this day of a new beginning than to help shape a just and peaceful world that is truly humane.\\nWe are a strong nation, and we will maintain strength so sufficient that it need not be proven in combat--a quiet strength based not merely on the size of an arsenal but on the nobility of ideas.\\nWe will be ever vigilant and never vulnerable, and we will fight our wars against poverty, ignorance, and injustice, for those are the enemies against which our forces can be honorably marshaled.\\nWe are a proudly idealistic nation, but let no one confuse our idealism with weakness.\\nBecause we are free, we can never be indifferent to the fate of freedom elsewhere. Our moral sense dictates a clear-cut preference for those societies which share with us an abiding respect for individual human rights. We do not seek to intimidate, but it is clear that a world which others can dominate with impunity would be inhospitable to decency and a threat to the well-being of all people.\\nThe world is still engaged in a massive armaments race designed to ensure continuing equivalent strength among potential adversaries. We pledge perseverance and wisdom in our efforts to limit the world\\'s armaments to those necessary for each nation\\'s own domestic safety. And we will move this year a step toward our ultimate goal--the elimination of all nuclear weapons from this Earth. We urge all other people to join us, for success can mean life instead of death.\\nWithin us, the people of the United States, there is evident a serious and purposeful rekindling of confidence. And I join in the hope that when my time as your President has ended, people might say this about our Nation:\\nthat we had remembered the words of Micah and renewed oursearch for humility, mercy, and justice;\\nthat we had torn down the barriers that separated those of different race and region and religion, and where there had been mistrust, built unity, with a respect for diversity;\\nthat we had found productive work for those able to perform it;\\nthat we had strengthened the American family, which is the basis of our society;\\nthat we had ensured respect for the law and equal treatment under the law, for the weak and the powerful, for the rich and the poor; and\\nthat we had enabled our people to be proud of their own Government once again.\\nI would hope that the nations of the world might say that we had built a lasting peace, based not on weapons of war but on international policies which reflect our own most precious values.\\nThese are not just my goals---and they will not be my accomplishments-but the affirmation of our Nation\\'s continuing moral strength and our belief in an undiminished, ever-expanding American dream.\\nThank you very much.'"
      ]
     },
     "execution_count": 89,
     "metadata": {},
     "output_type": "execute_result"
    }
   ],
   "source": [
    "data.Text[0]"
   ]
  },
  {
   "cell_type": "code",
   "execution_count": 90,
   "metadata": {
    "colab": {
     "autoexec": {
      "startup": false,
      "wait_interval": 0
     }
    },
    "colab_type": "code",
    "collapsed": true,
    "id": "N4C4UW8OMRx1"
   },
   "outputs": [],
   "source": [
    "len_summaries = [len(summary) for i, summary in enumerate(data.Summary)]\n",
    "len_texts = [len(text) for text in data.Text]"
   ]
  },
  {
   "cell_type": "code",
   "execution_count": 91,
   "metadata": {
    "colab": {
     "autoexec": {
      "startup": false,
      "wait_interval": 0
     },
     "base_uri": "https://localhost:8080/",
     "height": 357
    },
    "colab_type": "code",
    "executionInfo": {
     "elapsed": 510,
     "status": "ok",
     "timestamp": 1526289195789,
     "user": {
      "displayName": "Thomas Schmied",
      "photoUrl": "https://lh3.googleusercontent.com/a/default-user=s128",
      "userId": "102636220151368904258"
     },
     "user_tz": -120
    },
    "id": "YDIELEqAMRx3",
    "outputId": "d992bcca-2abf-496c-e595-f0e47813e7bf"
   },
   "outputs": [
    {
     "data": {
      "text/plain": [
       "([(360, 1),\n",
       "  (194, 1),\n",
       "  (260, 1),\n",
       "  (118, 1),\n",
       "  (295, 1),\n",
       "  (199, 1),\n",
       "  (72, 1),\n",
       "  (105, 1),\n",
       "  (75, 1),\n",
       "  (125, 1)],\n",
       " [(11892, 1),\n",
       "  (14579, 1),\n",
       "  (12484, 1),\n",
       "  (13701, 1),\n",
       "  (11893, 1),\n",
       "  (9064, 1),\n",
       "  (9011, 1),\n",
       "  (12139, 1),\n",
       "  (6844, 1),\n",
       "  (8413, 1)])"
      ]
     },
     "execution_count": 91,
     "metadata": {},
     "output_type": "execute_result"
    }
   ],
   "source": [
    "len_summaries_counted = Counter(len_summaries).most_common()\n",
    "len_texts_counted = Counter(len_texts).most_common()\n",
    "len_summaries_counted[:10], len_texts_counted[:10]"
   ]
  },
  {
   "cell_type": "code",
   "execution_count": 92,
   "metadata": {
    "colab": {
     "autoexec": {
      "startup": false,
      "wait_interval": 0
     }
    },
    "colab_type": "code",
    "collapsed": true,
    "id": "ejB7lS-yMRx6"
   },
   "outputs": [],
   "source": [
    "# we can use shorter texts, when there is a limited resources as those are easier to learn.\n",
    "indices = [ind for ind, text in enumerate(data.Text) if 50 < len(text) < 200000]"
   ]
  },
  {
   "cell_type": "code",
   "execution_count": 93,
   "metadata": {
    "collapsed": true
   },
   "outputs": [],
   "source": [
    "texts_unprocessed = [text for ind, text in enumerate(data.Text) if 50 < len(text) < 200000]\n"
   ]
  },
  {
   "cell_type": "code",
   "execution_count": 94,
   "metadata": {},
   "outputs": [],
   "source": [
    "summaries_unprocessed = [summary for text, summary in zip(data.Text,data.Summary) if 50 < len(text) < 200000]"
   ]
  },
  {
   "cell_type": "code",
   "execution_count": 95,
   "metadata": {
    "colab": {
     "autoexec": {
      "startup": false,
      "wait_interval": 0
     },
     "base_uri": "https://localhost:8080/",
     "height": 34
    },
    "colab_type": "code",
    "executionInfo": {
     "elapsed": 550,
     "status": "ok",
     "timestamp": 1526302480706,
     "user": {
      "displayName": "Thomas Schmied",
      "photoUrl": "https://lh3.googleusercontent.com/a/default-user=s128",
      "userId": "102636220151368904258"
     },
     "user_tz": -120
    },
    "id": "2iViCwQOMRyA",
    "outputId": "57a1e940-cf66-4d40-bea0-4f71431728bf"
   },
   "outputs": [
    {
     "name": "stdout",
     "output_type": "stream",
     "text": [
      "0 For myself and for our Nation, I want to thank my predecessor for all he has done to heal our land.\n",
      "In this outward and physical ceremony, we attest once again to the inner and spiritual strength of our Nation. As my high school teacher, Miss Julia Coleman, used to say, \"We must adjust to changing times and still hold to unchanging principles.\"\n",
      "Here before me is the Bible used in the inauguration of our first President, in 1789, and I have just taken the oath of office on the Bible my mother gave me just a few years ago, opened to a timeless admonition from the ancient prophet Micah: \"He hath showed thee, O man, what is good; and what doth the Lord require of thee, but to do justly, and to love mercy, and to walk humbly with thy God.\"\n",
      "This inauguration ceremony marks a new beginning, a new dedication within our Government, and a new spirit among us all. A President may sense and proclaim that new spirit, but only a people can provide it.\n",
      "Two centuries ago, our Nation's birth was a milestone in the long quest for freedom. But the bold and brilliant dream which excited the founders of this Nation still awaits its consummation. I have no new dream to set forth today, but rather urge a fresh faith in the old dream.\n",
      "Ours was the first society openly to define itself in terms of both spirituality and human liberty. It is that unique self-definition which has given us an exceptional appeal, but it also imposes on us a special obligation to take on those moral duties which, when assumed, seem invariably to be in our own best interests.\n",
      "You have given me a great responsibility--to stay close to you, to be worthy of you, and to exemplify what you are. Let us create together a new national spirit of unity and trust. Your strength can compensate for my weakness, and your wisdom can help to minimize my mistakes.\n",
      "Let us learn together and laugh together and work together and pray together, confident that in the end we will triumph together in the right.\n",
      "The American dream endures. We must once again have full faith in our country--and in one another. I believe America can be better. We can be even stronger than before.\n",
      "Let our recent mistakes bring a resurgent commitment to the basic principles of our Nation, for we know that if we despise our own government, we have no future. We recall in special times when we have stood briefly, but magnificently, united. In those times no prize was beyond our grasp.\n",
      "But we cannot dwell upon remembered glory. We cannot afford to drift. We reject the prospect of failure or mediocrity or an inferior quality of life for any person. Our Government must at the same time be both competent and compassionate.\n",
      "We have already found a high degree of personal liberty, and we are now struggling to enhance equality of opportunity. Our commitment to human rights must be absolute, our laws fair, our national beauty preserved; the powerful must not persecute the weak, and human dignity must be enhanced.\n",
      "We have learned that more is not necessarily better, that even our great Nation has its recognized limits, and that we can neither answer all questions nor solve all problems. We cannot afford to do everything, nor can we afford to lack boldness as we meet the future. So, together, in a spirit of individual sacrifice for the common good, we must simply do our best.\n",
      "Our Nation can be strong abroad only if it is strong at home. And we know that the best way to enhance freedom in other lands is to demonstrate here that our democratic system is worthy of emulation.\n",
      "To be true to ourselves, we must be true to others. We will not behave in foreign places so as to violate our rules and standards here at home, for we know that the trust which our Nation earns is essential to our strength.\n",
      "The world itself is now dominated by a new spirit. Peoples more numerous and more politically aware are craving, and now demanding, their place in the sun--not just for the benefit of their own physical condition, but for basic human rights.\n",
      "The passion for freedom is on the rise. Tapping this new spirit, there can be no nobler nor more ambitious task for America to undertake on this day of a new beginning than to help shape a just and peaceful world that is truly humane.\n",
      "We are a strong nation, and we will maintain strength so sufficient that it need not be proven in combat--a quiet strength based not merely on the size of an arsenal but on the nobility of ideas.\n",
      "We will be ever vigilant and never vulnerable, and we will fight our wars against poverty, ignorance, and injustice, for those are the enemies against which our forces can be honorably marshaled.\n",
      "We are a proudly idealistic nation, but let no one confuse our idealism with weakness.\n",
      "Because we are free, we can never be indifferent to the fate of freedom elsewhere. Our moral sense dictates a clear-cut preference for those societies which share with us an abiding respect for individual human rights. We do not seek to intimidate, but it is clear that a world which others can dominate with impunity would be inhospitable to decency and a threat to the well-being of all people.\n",
      "The world is still engaged in a massive armaments race designed to ensure continuing equivalent strength among potential adversaries. We pledge perseverance and wisdom in our efforts to limit the world's armaments to those necessary for each nation's own domestic safety. And we will move this year a step toward our ultimate goal--the elimination of all nuclear weapons from this Earth. We urge all other people to join us, for success can mean life instead of death.\n",
      "Within us, the people of the United States, there is evident a serious and purposeful rekindling of confidence. And I join in the hope that when my time as your President has ended, people might say this about our Nation:\n",
      "that we had remembered the words of Micah and renewed oursearch for humility, mercy, and justice;\n",
      "that we had torn down the barriers that separated those of different race and region and religion, and where there had been mistrust, built unity, with a respect for diversity;\n",
      "that we had found productive work for those able to perform it;\n",
      "that we had strengthened the American family, which is the basis of our society;\n",
      "that we had ensured respect for the law and equal treatment under the law, for the weak and the powerful, for the rich and the poor; and\n",
      "that we had enabled our people to be proud of their own Government once again.\n",
      "I would hope that the nations of the world might say that we had built a lasting peace, based not on weapons of war but on international policies which reflect our own most precious values.\n",
      "These are not just my goals---and they will not be my accomplishments-but the affirmation of our Nation's continuing moral strength and our belief in an undiminished, ever-expanding American dream.\n",
      "Thank you very much. We are a strong nation, and we will maintain strength so sufficient that it need not be proven in combat-a quiet strength based not merely on the size of an arsenal but on the nobility of ideas.\n"
     ]
    }
   ],
   "source": [
    "len(indices), len(texts_unprocessed), len(summaries_unprocessed)\n",
    "print(indices[0],texts_unprocessed[0],summaries_unprocessed[0])"
   ]
  },
  {
   "cell_type": "markdown",
   "metadata": {
    "colab_type": "text",
    "id": "wgyRluMkMRyQ"
   },
   "source": [
    "### Clean and prepare the data"
   ]
  },
  {
   "cell_type": "code",
   "execution_count": 98,
   "metadata": {
    "colab": {
     "autoexec": {
      "startup": false,
      "wait_interval": 0
     },
     "base_uri": "https://localhost:8080/",
     "height": 34
    },
    "colab_type": "code",
    "executionInfo": {
     "elapsed": 764,
     "status": "ok",
     "timestamp": 1526302488446,
     "user": {
      "displayName": "Thomas Schmied",
      "photoUrl": "https://lh3.googleusercontent.com/a/default-user=s128",
      "userId": "102636220151368904258"
     },
     "user_tz": -120
    },
    "id": "j0UGeO2jMRyR",
    "outputId": "985839a3-4776-4855-bab1-df8868cfd4a7"
   },
   "outputs": [
    {
     "name": "stdout",
     "output_type": "stream",
     "text": [
      "Processing Time:  0.35489797592163086\n"
     ]
    }
   ],
   "source": [
    "# preprocess the texts and summaries.\n",
    "# we have the option to keep_most or not. in this case we do not want 'to keep most', i.e. we will only keep\n",
    "# letters and numbers. \n",
    "# (to improve the model, this preprocessing step should be refined)\n",
    "processed_texts, processed_summaries, words_counted = summarizer_data_utils.preprocess_texts_and_summaries(\n",
    "    texts_unprocessed,\n",
    "    summaries_unprocessed,\n",
    "    keep_most=False)"
   ]
  },
  {
   "cell_type": "code",
   "execution_count": 99,
   "metadata": {
    "colab": {
     "autoexec": {
      "startup": false,
      "wait_interval": 0
     }
    },
    "colab_type": "code",
    "collapsed": true,
    "id": "mgccbEPjuRNa"
   },
   "outputs": [],
   "source": [
    "# some of the texts are empty remove those. \n",
    "processed_texts_clean = []\n",
    "processed_summaries_clean = []\n",
    "\n",
    "for t, s in zip(processed_texts, processed_summaries):\n",
    "    if t != [] and s != []:\n",
    "        processed_texts_clean.append(t)\n",
    "        processed_summaries_clean.append(s)"
   ]
  },
  {
   "cell_type": "markdown",
   "metadata": {
    "colab_type": "text",
    "id": "aEKcHwAgwdO8"
   },
   "source": [
    "### Create lookup dicts\n",
    "\n",
    "We cannot feed our network actual words, but numbers. So we first have to create our lookup dicts, where each words gets and int value (high or low, depending on its frequency in our corpus). Those help us to later convert the texts into numbers.\n",
    "\n",
    "We also add special tokens. EndOfSentence and StartOfSentence are crucial for the Seq2Seq model we later use.\n",
    "Pad token, because all summaries and texts in a batch need to have the same length, pad token helps us do that.\n",
    "\n",
    "So we need 2 lookup dicts:\n",
    " - From word to index \n",
    " - from index to word. "
   ]
  },
  {
   "cell_type": "code",
   "execution_count": 100,
   "metadata": {
    "colab": {
     "autoexec": {
      "startup": false,
      "wait_interval": 0
     },
     "base_uri": "https://localhost:8080/",
     "height": 34
    },
    "colab_type": "code",
    "executionInfo": {
     "elapsed": 758,
     "status": "ok",
     "timestamp": 1526303158556,
     "user": {
      "displayName": "Thomas Schmied",
      "photoUrl": "https://lh3.googleusercontent.com/a/default-user=s128",
      "userId": "102636220151368904258"
     },
     "user_tz": -120
    },
    "id": "qkJa2U71MRyd",
    "outputId": "0aa5aa57-193f-4c43-832a-f43bcbce4c39"
   },
   "outputs": [
    {
     "name": "stdout",
     "output_type": "stream",
     "text": [
      "1600 1600 1705\n"
     ]
    }
   ],
   "source": [
    "# create lookup dicts.\n",
    "# most oft the words only appear only once. \n",
    "# min_occureces set to 2 reduces our vocabulary by more than half.\n",
    "specials = [\"<EOS>\", \"<SOS>\",\"<PAD>\",\"<UNK>\"]\n",
    "word2ind, ind2word,  missing_words = summarizer_data_utils.create_word_inds_dicts(words_counted,\n",
    "                                                                                  specials = specials,\n",
    "                                                                                  min_occurences = 2)\n",
    "print(len(word2ind), len(ind2word), len(missing_words))\n"
   ]
  },
  {
   "cell_type": "markdown",
   "metadata": {
    "colab_type": "text",
    "id": "AROztGFeMRyf"
   },
   "source": [
    "### Pretrained embeddings\n",
    "\n",
    "Optionally we can use pretrained word embeddings. Those have proved to increase training speed and accuracy.\n",
    "Here I used two different options. Either we use glove embeddings or embeddings from tf_hub.\n",
    "The ones from tf_hub worked better."
   ]
  },
  {
   "cell_type": "code",
   "execution_count": 0,
   "metadata": {
    "colab": {
     "autoexec": {
      "startup": false,
      "wait_interval": 0
     }
    },
    "colab_type": "code",
    "collapsed": true,
    "id": "BP0Q0rLYMRyg"
   },
   "outputs": [],
   "source": [
    "# glove_embeddings_path = '/Users/thomas/Jupyter_Notebooks/Pro Deep Learning with Tensorflow/Notebooks/glove/glove.6B.300d.txt'\n",
    "# embedding_matrix_save_path = './embeddings/my_embedding.npy'\n",
    "# emb = summarizer_data_utils.create_and_save_embedding_matrix(word2ind,\n",
    "#                                                        glove_embeddings_path,\n",
    "#                                                        embedding_matrix_save_path)"
   ]
  },
  {
   "cell_type": "code",
   "execution_count": 102,
   "metadata": {
    "colab": {
     "autoexec": {
      "startup": false,
      "wait_interval": 0
     },
     "base_uri": "https://localhost:8080/",
     "height": 54
    },
    "colab_type": "code",
    "executionInfo": {
     "elapsed": 6500,
     "status": "ok",
     "timestamp": 1526303167329,
     "user": {
      "displayName": "Thomas Schmied",
      "photoUrl": "https://lh3.googleusercontent.com/a/default-user=s128",
      "userId": "102636220151368904258"
     },
     "user_tz": -120
    },
    "id": "tZiKedMCMRym",
    "outputId": "ecc3045b-a8bc-439b-da95-f25353f96dde"
   },
   "outputs": [
    {
     "name": "stdout",
     "output_type": "stream",
     "text": [
      "INFO:tensorflow:Saver not created because there are no variables in the graph to restore\n"
     ]
    },
    {
     "name": "stderr",
     "output_type": "stream",
     "text": [
      "I0413 12:44:54.129903 4320859008 saver.py:1483] Saver not created because there are no variables in the graph to restore\n"
     ]
    }
   ],
   "source": [
    "# the embeddings from tf.hub. \n",
    "# embed = hub.Module(\"https://tfhub.dev/google/nnlm-en-dim128/1\")\n",
    "embed = hub.Module(\"https://tfhub.dev/google/Wiki-words-250/1\")\n",
    "emb = embed([key for key in word2ind.keys()])\n",
    "\n",
    "with tf.Session() as sess:\n",
    "    sess.run(tf.global_variables_initializer())\n",
    "    sess.run(tf.tables_initializer())\n",
    "    embedding = sess.run(emb)"
   ]
  },
  {
   "cell_type": "code",
   "execution_count": 103,
   "metadata": {
    "colab": {
     "autoexec": {
      "startup": false,
      "wait_interval": 0
     },
     "base_uri": "https://localhost:8080/",
     "height": 34
    },
    "colab_type": "code",
    "executionInfo": {
     "elapsed": 654,
     "status": "ok",
     "timestamp": 1526303168040,
     "user": {
      "displayName": "Thomas Schmied",
      "photoUrl": "https://lh3.googleusercontent.com/a/default-user=s128",
      "userId": "102636220151368904258"
     },
     "user_tz": -120
    },
    "id": "p3ZPvxttMRyp",
    "outputId": "42fcbe6f-822e-4100-ed99-8385695393ac"
   },
   "outputs": [
    {
     "data": {
      "text/plain": [
       "(1600, 250)"
      ]
     },
     "execution_count": 103,
     "metadata": {},
     "output_type": "execute_result"
    }
   ],
   "source": [
    "embedding.shape"
   ]
  },
  {
   "cell_type": "code",
   "execution_count": 104,
   "metadata": {
    "colab": {
     "autoexec": {
      "startup": false,
      "wait_interval": 0
     }
    },
    "colab_type": "code",
    "id": "J3TcS6R9MRys"
   },
   "outputs": [],
   "source": [
    "np.save('./tf_hub_embedding_speech.npy', embedding)"
   ]
  },
  {
   "cell_type": "markdown",
   "metadata": {
    "colab_type": "text",
    "id": "hZE4e-WpMRyv"
   },
   "source": [
    "### Convert text and summaries\n",
    "As I said before we cannot feed the words directly to our network, we have to convert them to numbers first of all. This is what we do here. And we also append the SOS and EOS tokens."
   ]
  },
  {
   "cell_type": "code",
   "execution_count": 105,
   "metadata": {
    "colab": {
     "autoexec": {
      "startup": false,
      "wait_interval": 0
     }
    },
    "colab_type": "code",
    "collapsed": true,
    "id": "OlJj89OoMRyv"
   },
   "outputs": [],
   "source": [
    "# converts words in texts and summaries to indices\n",
    "converted_texts, unknown_words_in_texts = summarizer_data_utils.convert_to_inds(processed_texts_clean,\n",
    "                                                                                word2ind,\n",
    "                                                                                eos = False)"
   ]
  },
  {
   "cell_type": "code",
   "execution_count": 106,
   "metadata": {
    "colab": {
     "autoexec": {
      "startup": false,
      "wait_interval": 0
     }
    },
    "colab_type": "code",
    "collapsed": true,
    "id": "wwQOF00rMRyx"
   },
   "outputs": [],
   "source": [
    "converted_summaries, unknown_words_in_summaries = summarizer_data_utils.convert_to_inds(processed_summaries_clean,\n",
    "                                                                                        word2ind,\n",
    "                                                                                        eos = True,\n",
    "                                                                                        sos = True)"
   ]
  },
  {
   "cell_type": "code",
   "execution_count": 107,
   "metadata": {
    "colab": {
     "autoexec": {
      "startup": false,
      "wait_interval": 0
     },
     "base_uri": "https://localhost:8080/",
     "height": 71
    },
    "colab_type": "code",
    "executionInfo": {
     "elapsed": 769,
     "status": "ok",
     "timestamp": 1526303172571,
     "user": {
      "displayName": "Thomas Schmied",
      "photoUrl": "https://lh3.googleusercontent.com/a/default-user=s128",
      "userId": "102636220151368904258"
     },
     "user_tz": -120
    },
    "id": "Ji7aug7CMRyz",
    "outputId": "8e793992-ea75-497f-e08e-774d3ce62b33"
   },
   "outputs": [
    {
     "name": "stdout",
     "output_type": "stream",
     "text": [
      "['for', '<UNK>', 'and', 'for', 'our', 'nation', 'i', 'want', 'to', 'thank', 'my', 'predecessor', 'for', 'all', 'he', 'has', 'done', 'to', 'heal', 'our', 'land', 'in', 'this', '<UNK>', 'and', 'physical', 'ceremony', 'we', '<UNK>', 'once', 'again', 'to', 'the', 'inner', 'and', '<UNK>', 'strength', 'of', 'our', 'nation', 'as', 'my', 'high', '<UNK>', '<UNK>', '<UNK>', '<UNK>', '<UNK>', 'used', 'to', 'say', 'we', 'must', '<UNK>', 'to', 'changing', 'times', 'and', 'still', 'hold', 'to', '<UNK>', 'principles', 'here', 'before', 'me', 'is', 'the', 'bible', 'used', 'in', 'the', 'inauguration', 'of', 'our', 'first', 'president', 'in', '<UNK>', 'and', 'i', 'have', 'just', 'taken', 'the', 'oath', 'of', 'office', 'on', 'the', 'bible', 'my', '<UNK>', 'gave', 'me', 'just', 'a', 'few', 'years', 'ago', 'opened', 'to', 'a', 'timeless', '<UNK>', 'from', 'the', 'ancient', 'prophet', 'micah', 'he', '<UNK>', '<UNK>', 'thee', 'o', 'man', 'what', 'is', 'good', 'and', 'what', '<UNK>', 'the', 'lord', 'require', 'of', 'thee', 'but', 'to', 'do', '<UNK>', 'and', 'to', 'love', 'mercy', 'and', 'to', 'walk', '<UNK>', 'with', '<UNK>', 'god', 'this', 'inauguration', 'ceremony', '<UNK>', 'a', 'new', 'beginning', 'a', 'new', 'dedication', 'within', 'our', 'government', 'and', 'a', 'new', 'spirit', 'among', 'us', 'all', 'a', 'president', 'may', 'sense', 'and', 'proclaim', 'that', 'new', 'spirit', 'but', 'only', 'a', 'people', 'can', 'provide', 'it', 'two', 'centuries', 'ago', 'our', 'nation', 's', 'birth', 'was', 'a', '<UNK>', 'in', 'the', 'long', 'quest', 'for', 'freedom', 'but', 'the', 'bold', 'and', '<UNK>', 'dream', 'which', '<UNK>', 'the', 'founders', 'of', 'this', 'nation', 'still', '<UNK>', 'its', '<UNK>', 'i', 'have', 'no', 'new', 'dream', 'to', 'set', 'forth', 'today', 'but', 'rather', 'urge', 'a', '<UNK>', 'faith', 'in', 'the', 'old', 'dream', 'ours', 'was', 'the', 'first', 'society', 'openly', 'to', 'define', 'itself', 'in', '<UNK>', 'of', 'both', '<UNK>', 'and', 'human', 'liberty', 'it', 'is', 'that', 'unique', 'self', 'definition', 'which', 'has', 'given', 'us', 'an', 'exceptional', 'appeal', 'but', 'it', 'also', '<UNK>', 'on', 'us', 'a', 'special', 'obligation', 'to', 'take', 'on', 'those', 'moral', 'duties', 'which', 'when', '<UNK>', 'seem', '<UNK>', 'to', 'be', 'in', 'our', 'own', 'best', 'interests', 'you', 'have', 'given', 'me', 'a', 'great', 'responsibility', 'to', 'stay', 'close', 'to', 'you', 'to', 'be', 'worthy', 'of', 'you', 'and', 'to', '<UNK>', 'what', 'you', 'are', 'let', 'us', 'create', 'together', 'a', 'new', 'national', 'spirit', 'of', 'unity', 'and', 'trust', 'your', 'strength', 'can', '<UNK>', 'for', 'my', 'weakness', 'and', 'your', 'wisdom', 'can', 'help', 'to', '<UNK>', 'my', 'mistakes', 'let', 'us', 'learn', 'together', 'and', '<UNK>', 'together', 'and', 'work', 'together', 'and', '<UNK>', 'together', 'confident', 'that', 'in', 'the', 'end', 'we', 'will', 'triumph', 'together', 'in', 'the', 'right', 'the', 'american', 'dream', 'endures', 'we', 'must', 'once', 'again', 'have', 'full', 'faith', 'in', 'our', 'country', 'and', 'in', 'one', 'another', 'i', 'believe', 'america', 'can', 'be', 'better', 'we', 'can', 'be', 'even', 'stronger', 'than', 'before', 'let', 'our', '<UNK>', 'mistakes', 'bring', 'a', '<UNK>', 'commitment', 'to', 'the', 'basic', 'principles', 'of', 'our', 'nation', 'for', 'we', 'know', 'that', 'if', 'we', '<UNK>', 'our', 'own', 'government', 'we', 'have', 'no', 'future', 'we', 'recall', 'in', 'special', 'times', 'when', 'we', 'have', 'stood', '<UNK>', 'but', '<UNK>', 'united', 'in', 'those', 'times', 'no', '<UNK>', 'was', 'beyond', 'our', '<UNK>', 'but', 'we', 'can', 'not', '<UNK>', 'upon', 'remembered', 'glory', 'we', 'can', 'not', 'afford', 'to', 'drift', 'we', 'reject', 'the', 'prospect', 'of', 'failure', 'or', '<UNK>', 'or', 'an', '<UNK>', 'quality', 'of', 'life', 'for', 'any', 'person', 'our', 'government', 'must', 'at', 'the', 'same', 'time', 'be', 'both', '<UNK>', 'and', 'compassionate', 'we', 'have', 'already', 'found', 'a', 'high', 'degree', 'of', 'personal', 'liberty', 'and', 'we', 'are', 'now', 'struggling', 'to', 'enhance', 'equality', 'of', 'opportunity', 'our', 'commitment', 'to', 'human', 'rights', 'must', 'be', '<UNK>', 'our', 'laws', 'fair', 'our', 'national', 'beauty', 'preserved', 'the', 'powerful', 'must', 'not', '<UNK>', 'the', 'weak', 'and', 'human', 'dignity', 'must', 'be', '<UNK>', 'we', 'have', 'learned', 'that', 'more', 'is', 'not', '<UNK>', 'better', 'that', 'even', 'our', 'great', 'nation', 'has', 'its', '<UNK>', 'limits', 'and', 'that', 'we', 'can', 'neither', 'answer', 'all', 'questions', 'nor', 'solve', 'all', 'problems', 'we', 'can', 'not', 'afford', 'to', 'do', '<UNK>', 'nor', 'can', 'we', 'afford', 'to', '<UNK>', 'boldness', 'as', 'we', 'meet', 'the', 'future', 'so', 'together', 'in', 'a', 'spirit', 'of', 'individual', 'sacrifice', 'for', 'the', 'common', 'good', 'we', 'must', 'simply', 'do', 'our', 'best', 'our', 'nation', 'can', 'be', 'strong', 'abroad', 'only', 'if', 'it', 'is', 'strong', 'at', 'home', 'and', 'we', 'know', 'that', 'the', 'best', 'way', 'to', 'enhance', 'freedom', 'in', 'other', 'lands', 'is', 'to', '<UNK>', 'here', 'that', 'our', 'democratic', 'system', 'is', 'worthy', 'of', '<UNK>', 'to', 'be', 'true', 'to', 'ourselves', 'we', 'must', 'be', 'true', 'to', 'others', 'we', 'will', 'not', '<UNK>', 'in', 'foreign', 'places', 'so', 'as', 'to', '<UNK>', 'our', 'rules', 'and', 'standards', 'here', 'at', 'home', 'for', 'we', 'know', 'that', 'the', 'trust', 'which', 'our', 'nation', '<UNK>', 'is', 'essential', 'to', 'our', 'strength', 'the', 'world', 'itself', 'is', 'now', '<UNK>', 'by', 'a', 'new', 'spirit', 'peoples', 'more', '<UNK>', 'and', 'more', '<UNK>', '<UNK>', 'are', '<UNK>', 'and', 'now', '<UNK>', 'their', 'place', 'in', 'the', 'sun', 'not', 'just', 'for', 'the', 'benefit', 'of', 'their', 'own', 'physical', '<UNK>', 'but', 'for', 'basic', 'human', 'rights', 'the', 'passion', 'for', 'freedom', 'is', 'on', 'the', 'rise', '<UNK>', 'this', 'new', 'spirit', 'there', 'can', 'be', 'no', '<UNK>', 'nor', 'more', '<UNK>', 'task', 'for', 'america', 'to', 'undertake', 'on', 'this', 'day', 'of', 'a', 'new', 'beginning', 'than', 'to', 'help', 'shape', 'a', 'just', 'and', 'peaceful', 'world', 'that', 'is', 'truly', '<UNK>', 'we', 'are', 'a', 'strong', 'nation', 'and', 'we', 'will', 'maintain', 'strength', 'so', 'sufficient', 'that', 'it', 'need', 'not', 'be', 'proven', 'in', 'combat', 'a', 'quiet', 'strength', 'based', 'not', 'merely', 'on', 'the', 'size', 'of', 'an', 'arsenal', 'but', 'on', 'the', 'nobility', 'of', 'ideas', 'we', 'will', 'be', 'ever', 'vigilant', 'and', 'never', 'vulnerable', 'and', 'we', 'will', 'fight', 'our', 'wars', 'against', 'poverty', 'ignorance', 'and', '<UNK>', 'for', 'those', 'are', 'the', 'enemies', 'against', 'which', 'our', 'forces', 'can', 'be', '<UNK>', '<UNK>', 'we', 'are', 'a', 'proudly', 'idealistic', 'nation', 'but', 'let', 'no', 'one', '<UNK>', 'our', 'idealism', 'with', 'weakness', 'because', 'we', 'are', 'free', 'we', 'can', 'never', 'be', '<UNK>', 'to', 'the', 'fate', 'of', 'freedom', '<UNK>', 'our', 'moral', 'sense', '<UNK>', 'a', 'clear', 'cut', '<UNK>', 'for', 'those', '<UNK>', 'which', 'share', 'with', 'us', 'an', 'abiding', 'respect', 'for', 'individual', 'human', 'rights', 'we', 'do', 'not', 'seek', 'to', '<UNK>', 'but', 'it', 'is', 'clear', 'that', 'a', 'world', 'which', 'others', 'can', '<UNK>', 'with', '<UNK>', 'would', 'be', '<UNK>', 'to', 'decency', 'and', 'a', 'threat', 'to', 'the', 'well', 'being', 'of', 'all', 'people', 'the', 'world', 'is', 'still', 'engaged', 'in', 'a', 'massive', 'armaments', 'race', '<UNK>', 'to', 'ensure', 'continuing', '<UNK>', 'strength', 'among', 'potential', 'adversaries', 'we', 'pledge', '<UNK>', 'and', 'wisdom', 'in', 'our', 'efforts', 'to', 'limit', 'the', 'world', 's', 'armaments', 'to', 'those', 'necessary', 'for', 'each', 'nation', 's', 'own', 'domestic', 'safety', 'and', 'we', 'will', 'move', 'this', 'year', 'a', '<UNK>', 'toward', 'our', 'ultimate', 'goal', 'the', 'elimination', 'of', 'all', 'nuclear', 'weapons', 'from', 'this', 'earth', 'we', 'urge', 'all', 'other', 'people', 'to', 'join', 'us', 'for', 'success', 'can', 'mean', 'life', 'instead', 'of', '<UNK>', 'within', 'us', 'the', 'people', 'of', 'the', 'united', 'states', 'there', 'is', 'evident', 'a', 'serious', 'and', '<UNK>', '<UNK>', 'of', 'confidence', 'and', 'i', 'join', 'in', 'the', 'hope', 'that', 'when', 'my', 'time', 'as', 'your', 'president', 'has', 'ended', 'people', 'might', 'say', 'this', 'about', 'our', 'nation', 'that', 'we', 'had', 'remembered', 'the', 'words', 'of', 'micah', 'and', 'renewed', '<UNK>', 'for', 'humility', 'mercy', 'and', 'justice', 'that', 'we', 'had', 'torn', 'down', 'the', 'barriers', 'that', '<UNK>', 'those', 'of', 'different', 'race', 'and', '<UNK>', 'and', '<UNK>', 'and', 'where', 'there', 'had', 'been', 'mistrust', 'built', 'unity', 'with', 'a', 'respect', 'for', 'diversity', 'that', 'we', 'had', 'found', 'productive', 'work', 'for', 'those', 'able', 'to', 'perform', 'it', 'that', 'we', 'had', 'strengthened', 'the', 'american', 'family', 'which', 'is', 'the', '<UNK>', 'of', 'our', 'society', 'that', 'we', 'had', '<UNK>', 'respect', 'for', 'the', 'law', 'and', 'equal', 'treatment', 'under', 'the', 'law', 'for', 'the', 'weak', 'and', 'the', 'powerful', 'for', 'the', 'rich', 'and', 'the', 'poor', 'and', 'that', 'we', 'had', '<UNK>', 'our', 'people', 'to', 'be', 'proud', 'of', 'their', 'own', 'government', 'once', 'again', 'i', 'would', 'hope', 'that', 'the', 'nations', 'of', 'the', 'world', 'might', 'say', 'that', 'we', 'had', 'built', 'a', 'lasting', 'peace', 'based', 'not', 'on', 'weapons', 'of', 'war', 'but', 'on', 'international', 'policies', 'which', 'reflect', 'our', 'own', 'most', 'precious', 'values', 'these', 'are', 'not', 'just', 'my', 'goals', 'and', 'they', 'will', 'not', 'be', 'my', '<UNK>', 'but', 'the', '<UNK>', 'of', 'our', 'nation', 's', 'continuing', 'moral', 'strength', 'and', 'our', 'belief', 'in', 'an', 'undiminished', 'ever', '<UNK>', 'american', 'dream', 'thank', 'you', 'very', 'much']\n",
      "['<SOS>', 'we', 'are', 'a', 'strong', 'nation', 'and', 'we', 'will', 'maintain', 'strength', 'so', 'sufficient', 'that', 'it', 'need', 'not', 'be', 'proven', 'in', 'combat', 'a', 'quiet', 'strength', 'based', 'not', 'merely', 'on', 'the', 'size', 'of', 'an', 'arsenal', 'but', 'on', 'the', 'nobility', 'of', 'ideas', '<EOS>']\n"
     ]
    }
   ],
   "source": [
    "# seems to have worked well. \n",
    "print(summarizer_data_utils.convert_inds_to_text(converted_texts[0], ind2word))\n",
    "print(summarizer_data_utils.convert_inds_to_text(converted_summaries[0], ind2word))\n"
   ]
  },
  {
   "cell_type": "markdown",
   "metadata": {
    "colab_type": "text",
    "id": "M0Y2suasMRy2"
   },
   "source": [
    "## The model\n",
    "\n",
    "Now we can build and train our model. First we define the hyperparameters we want to use. Then we create our Summarizer and call the function .build_graph(), which as the name suggests, builds the computation graph. \n",
    "Then we can train the model using .train()\n",
    "\n",
    "After training we can try our model using .infer()"
   ]
  },
  {
   "cell_type": "markdown",
   "metadata": {
    "colab_type": "text",
    "id": "JVW72Wc2MRy2"
   },
   "source": [
    "### Training\n",
    "Unfortunately I do not have the resources to find the perfect (or right) hyperparameters.\n",
    "\n",
    "I trained the model for about 40 epochs. the training loss, as well as the validation loss were both still declining.\n",
    "I chose to use 90% of the data as trainign set and 10% as validation set."
   ]
  },
  {
   "cell_type": "code",
   "execution_count": 113,
   "metadata": {
    "colab": {
     "autoexec": {
      "startup": false,
      "wait_interval": 0
     }
    },
    "colab_type": "code",
    "collapsed": true,
    "id": "gt3IfgWsMRy3"
   },
   "outputs": [],
   "source": [
    "# model hyperparameters\n",
    "num_layers_encoder = 4\n",
    "num_layers_decoder = 4\n",
    "rnn_size_encoder = 250\n",
    "rnn_size_decoder = 250\n",
    "\n",
    "batch_size = 22\n",
    "epochs = 100\n",
    "clip = 5\n",
    "keep_probability = 0.8\n",
    "learning_rate = 0.0005\n",
    "max_lr=0.005\n",
    "learning_rate_decay_steps = 100\n",
    "learning_rate_decay = 0.90\n",
    "\n",
    "\n",
    "pretrained_embeddings_path = './tf_hub_embedding_speech.npy'\n",
    "summary_dir = os.path.join('./tensorboard/speeches')\n",
    "\n",
    "use_cyclic_lr = True\n",
    "inference_targets=True\n"
   ]
  },
  {
   "cell_type": "code",
   "execution_count": 114,
   "metadata": {
    "colab": {
     "autoexec": {
      "startup": false,
      "wait_interval": 0
     },
     "base_uri": "https://localhost:8080/",
     "height": 19349
    },
    "colab_type": "code",
    "executionInfo": {
     "elapsed": 2406580,
     "status": "ok",
     "timestamp": 1526305857191,
     "user": {
      "displayName": "Thomas Schmied",
      "photoUrl": "https://lh3.googleusercontent.com/a/default-user=s128",
      "userId": "102636220151368904258"
     },
     "user_tz": -120
    },
    "id": "dN0Cd-YwMRzB",
    "outputId": "d7c51cf4-0904-44dd-8180-286830a8db5c"
   },
   "outputs": [
    {
     "name": "stdout",
     "output_type": "stream",
     "text": [
      "Loaded pretrained embeddings.\n"
     ]
    },
    {
     "name": "stderr",
     "output_type": "stream",
     "text": [
      "/Users/arunviveksupramanian/anaconda/lib/python3.5/site-packages/tensorflow/python/ops/gradients_impl.py:110: UserWarning: Converting sparse IndexedSlices to a dense Tensor of unknown shape. This may consume a large amount of memory.\n",
      "  \"Converting sparse IndexedSlices to a dense Tensor of unknown shape. \"\n"
     ]
    },
    {
     "name": "stdout",
     "output_type": "stream",
     "text": [
      "Graph built.\n",
      "-------------------- Epoch 0 of 100 --------------------\n",
      "Iteration: 0 of 0\ttrain_loss: 7.3778\n",
      "Average Score for this Epoch: 7.3777689933776855\n",
      "--- new best score ---\n",
      "\n",
      "\n",
      "-------------------- Epoch 1 of 100 --------------------\n",
      "Iteration: 0 of 0\ttrain_loss: 7.3701\n",
      "Average Score for this Epoch: 7.370136260986328\n",
      "--- new best score ---\n",
      "\n",
      "\n",
      "-------------------- Epoch 2 of 100 --------------------\n",
      "Iteration: 0 of 0\ttrain_loss: 7.3573\n",
      "Average Score for this Epoch: 7.357321262359619\n",
      "--- new best score ---\n",
      "\n",
      "\n",
      "-------------------- Epoch 3 of 100 --------------------\n",
      "Iteration: 0 of 0\ttrain_loss: 7.3218\n",
      "Average Score for this Epoch: 7.321800708770752\n",
      "--- new best score ---\n",
      "\n",
      "\n",
      "-------------------- Epoch 4 of 100 --------------------\n",
      "Iteration: 0 of 0\ttrain_loss: 7.2197\n",
      "Average Score for this Epoch: 7.219707012176514\n",
      "--- new best score ---\n",
      "\n",
      "\n",
      "-------------------- Epoch 5 of 100 --------------------\n",
      "Iteration: 0 of 0\ttrain_loss: 7.0442\n",
      "Average Score for this Epoch: 7.044190883636475\n",
      "--- new best score ---\n",
      "\n",
      "\n",
      "-------------------- Epoch 6 of 100 --------------------\n",
      "Iteration: 0 of 0\ttrain_loss: 6.8290\n",
      "Average Score for this Epoch: 6.828981399536133\n",
      "--- new best score ---\n",
      "\n",
      "\n",
      "-------------------- Epoch 7 of 100 --------------------\n",
      "Iteration: 0 of 0\ttrain_loss: 6.5809\n",
      "Average Score for this Epoch: 6.580944538116455\n",
      "--- new best score ---\n",
      "\n",
      "\n",
      "-------------------- Epoch 8 of 100 --------------------\n",
      "Iteration: 0 of 0\ttrain_loss: 6.3051\n",
      "Average Score for this Epoch: 6.305068492889404\n",
      "--- new best score ---\n",
      "\n",
      "\n",
      "-------------------- Epoch 9 of 100 --------------------\n",
      "Iteration: 0 of 0\ttrain_loss: 6.0219\n",
      "Average Score for this Epoch: 6.021910667419434\n",
      "--- new best score ---\n",
      "\n",
      "\n",
      "-------------------- Epoch 10 of 100 --------------------\n",
      "Iteration: 0 of 0\ttrain_loss: 5.7432\n",
      "Average Score for this Epoch: 5.743239879608154\n",
      "--- new best score ---\n",
      "\n",
      "\n",
      "-------------------- Epoch 11 of 100 --------------------\n",
      "Iteration: 0 of 0\ttrain_loss: 5.4921\n",
      "Average Score for this Epoch: 5.492062091827393\n",
      "--- new best score ---\n",
      "\n",
      "\n",
      "-------------------- Epoch 12 of 100 --------------------\n",
      "Iteration: 0 of 0\ttrain_loss: 5.2793\n",
      "Average Score for this Epoch: 5.27925443649292\n",
      "--- new best score ---\n",
      "\n",
      "\n",
      "-------------------- Epoch 13 of 100 --------------------\n",
      "Iteration: 0 of 0\ttrain_loss: 5.1021\n",
      "Average Score for this Epoch: 5.102130889892578\n",
      "--- new best score ---\n",
      "\n",
      "\n",
      "-------------------- Epoch 14 of 100 --------------------\n",
      "Iteration: 0 of 0\ttrain_loss: 4.9584\n",
      "Average Score for this Epoch: 4.958441257476807\n",
      "--- new best score ---\n",
      "\n",
      "\n",
      "-------------------- Epoch 15 of 100 --------------------\n",
      "Iteration: 0 of 0\ttrain_loss: 4.8453\n",
      "Average Score for this Epoch: 4.845297813415527\n",
      "--- new best score ---\n",
      "\n",
      "\n",
      "-------------------- Epoch 16 of 100 --------------------\n",
      "Iteration: 0 of 0\ttrain_loss: 4.7639\n",
      "Average Score for this Epoch: 4.763868808746338\n",
      "--- new best score ---\n",
      "\n",
      "\n",
      "-------------------- Epoch 17 of 100 --------------------\n",
      "Iteration: 0 of 0\ttrain_loss: 4.7109\n",
      "Average Score for this Epoch: 4.710935592651367\n",
      "--- new best score ---\n",
      "\n",
      "\n",
      "-------------------- Epoch 18 of 100 --------------------\n",
      "Iteration: 0 of 0\ttrain_loss: 4.6692\n",
      "Average Score for this Epoch: 4.669248104095459\n",
      "--- new best score ---\n",
      "\n",
      "\n",
      "-------------------- Epoch 19 of 100 --------------------\n",
      "Iteration: 0 of 0\ttrain_loss: 4.6396\n",
      "Average Score for this Epoch: 4.63955020904541\n",
      "--- new best score ---\n",
      "\n",
      "\n",
      "-------------------- Epoch 20 of 100 --------------------\n",
      "Iteration: 0 of 0\ttrain_loss: 4.6184\n",
      "Average Score for this Epoch: 4.618396282196045\n",
      "--- new best score ---\n",
      "\n",
      "\n",
      "-------------------- Epoch 21 of 100 --------------------\n",
      "Iteration: 0 of 0\ttrain_loss: 4.5986\n",
      "Average Score for this Epoch: 4.598639011383057\n",
      "--- new best score ---\n",
      "\n",
      "\n",
      "-------------------- Epoch 22 of 100 --------------------\n",
      "Iteration: 0 of 0\ttrain_loss: 4.5773\n",
      "Average Score for this Epoch: 4.577285289764404\n",
      "--- new best score ---\n",
      "\n",
      "\n",
      "-------------------- Epoch 23 of 100 --------------------\n",
      "Iteration: 0 of 0\ttrain_loss: 4.5485\n",
      "Average Score for this Epoch: 4.5485076904296875\n",
      "--- new best score ---\n",
      "\n",
      "\n",
      "-------------------- Epoch 24 of 100 --------------------\n",
      "Iteration: 0 of 0\ttrain_loss: 4.5249\n",
      "Average Score for this Epoch: 4.524918079376221\n",
      "--- new best score ---\n",
      "\n",
      "\n",
      "-------------------- Epoch 25 of 100 --------------------\n",
      "Iteration: 0 of 0\ttrain_loss: 4.4936\n",
      "Average Score for this Epoch: 4.493565082550049\n",
      "--- new best score ---\n",
      "\n",
      "\n",
      "-------------------- Epoch 26 of 100 --------------------\n",
      "Iteration: 0 of 0\ttrain_loss: 4.4686\n",
      "Average Score for this Epoch: 4.468597412109375\n",
      "--- new best score ---\n",
      "\n",
      "\n",
      "-------------------- Epoch 27 of 100 --------------------\n",
      "Iteration: 0 of 0\ttrain_loss: 4.4491\n",
      "Average Score for this Epoch: 4.449069976806641\n",
      "--- new best score ---\n",
      "\n",
      "\n",
      "-------------------- Epoch 28 of 100 --------------------\n",
      "Iteration: 0 of 0\ttrain_loss: 4.4358\n",
      "Average Score for this Epoch: 4.435844898223877\n",
      "--- new best score ---\n",
      "\n",
      "\n",
      "-------------------- Epoch 29 of 100 --------------------\n",
      "Iteration: 0 of 0\ttrain_loss: 4.4252\n",
      "Average Score for this Epoch: 4.425154685974121\n",
      "--- new best score ---\n",
      "\n",
      "\n",
      "-------------------- Epoch 30 of 100 --------------------\n",
      "Iteration: 0 of 0\ttrain_loss: 4.4095\n",
      "Average Score for this Epoch: 4.409502029418945\n",
      "--- new best score ---\n",
      "\n",
      "\n",
      "-------------------- Epoch 31 of 100 --------------------\n",
      "Iteration: 0 of 0\ttrain_loss: 4.3931\n",
      "Average Score for this Epoch: 4.393059253692627\n",
      "--- new best score ---\n",
      "\n",
      "\n",
      "-------------------- Epoch 32 of 100 --------------------\n",
      "Iteration: 0 of 0\ttrain_loss: 4.3770\n",
      "Average Score for this Epoch: 4.3770246505737305\n",
      "--- new best score ---\n",
      "\n",
      "\n",
      "-------------------- Epoch 33 of 100 --------------------\n",
      "Iteration: 0 of 0\ttrain_loss: 4.3589\n",
      "Average Score for this Epoch: 4.358879566192627\n",
      "--- new best score ---\n",
      "\n",
      "\n",
      "-------------------- Epoch 34 of 100 --------------------\n",
      "Iteration: 0 of 0\ttrain_loss: 4.3390\n",
      "Average Score for this Epoch: 4.338979244232178\n",
      "--- new best score ---\n",
      "\n",
      "\n",
      "-------------------- Epoch 35 of 100 --------------------\n",
      "Iteration: 0 of 0\ttrain_loss: 4.3229\n",
      "Average Score for this Epoch: 4.322926044464111\n",
      "--- new best score ---\n",
      "\n",
      "\n",
      "-------------------- Epoch 36 of 100 --------------------\n",
      "Iteration: 0 of 0\ttrain_loss: 4.3086\n",
      "Average Score for this Epoch: 4.308573246002197\n",
      "--- new best score ---\n",
      "\n",
      "\n",
      "-------------------- Epoch 37 of 100 --------------------\n",
      "Iteration: 0 of 0\ttrain_loss: 4.2949\n",
      "Average Score for this Epoch: 4.294902324676514\n",
      "--- new best score ---\n",
      "\n",
      "\n",
      "-------------------- Epoch 38 of 100 --------------------\n",
      "Iteration: 0 of 0\ttrain_loss: 4.2814\n",
      "Average Score for this Epoch: 4.281351089477539\n",
      "--- new best score ---\n",
      "\n",
      "\n",
      "-------------------- Epoch 39 of 100 --------------------\n",
      "Iteration: 0 of 0\ttrain_loss: 4.2720\n",
      "Average Score for this Epoch: 4.272036075592041\n",
      "--- new best score ---\n",
      "\n",
      "\n",
      "-------------------- Epoch 40 of 100 --------------------\n",
      "Iteration: 0 of 0\ttrain_loss: 4.2549\n",
      "Average Score for this Epoch: 4.254912376403809\n",
      "--- new best score ---\n",
      "\n",
      "\n",
      "-------------------- Epoch 41 of 100 --------------------\n",
      "Iteration: 0 of 0\ttrain_loss: 4.2373\n",
      "Average Score for this Epoch: 4.237275123596191\n",
      "--- new best score ---\n",
      "\n",
      "\n",
      "-------------------- Epoch 42 of 100 --------------------\n",
      "Iteration: 0 of 0\ttrain_loss: 4.2234\n",
      "Average Score for this Epoch: 4.223428726196289\n",
      "--- new best score ---\n",
      "\n",
      "\n",
      "-------------------- Epoch 43 of 100 --------------------\n",
      "Iteration: 0 of 0\ttrain_loss: 4.2079\n",
      "Average Score for this Epoch: 4.2078776359558105\n",
      "--- new best score ---\n",
      "\n",
      "\n",
      "-------------------- Epoch 44 of 100 --------------------\n",
      "Iteration: 0 of 0\ttrain_loss: 4.1971\n",
      "Average Score for this Epoch: 4.197149753570557\n",
      "--- new best score ---\n",
      "\n",
      "\n",
      "-------------------- Epoch 45 of 100 --------------------\n",
      "Iteration: 0 of 0\ttrain_loss: 4.1845\n",
      "Average Score for this Epoch: 4.184521198272705\n",
      "--- new best score ---\n",
      "\n",
      "\n",
      "-------------------- Epoch 46 of 100 --------------------\n",
      "Iteration: 0 of 0\ttrain_loss: 4.1682\n",
      "Average Score for this Epoch: 4.168237209320068\n",
      "--- new best score ---\n",
      "\n",
      "\n",
      "-------------------- Epoch 47 of 100 --------------------\n",
      "Iteration: 0 of 0\ttrain_loss: 4.1512\n",
      "Average Score for this Epoch: 4.151217937469482\n",
      "--- new best score ---\n",
      "\n",
      "\n",
      "-------------------- Epoch 48 of 100 --------------------\n",
      "Iteration: 0 of 0\ttrain_loss: 4.1415\n",
      "Average Score for this Epoch: 4.141541957855225\n",
      "--- new best score ---\n",
      "\n",
      "\n",
      "-------------------- Epoch 49 of 100 --------------------\n",
      "Iteration: 0 of 0\ttrain_loss: 4.1301\n",
      "Average Score for this Epoch: 4.130142688751221\n",
      "--- new best score ---\n",
      "\n",
      "\n",
      "-------------------- Epoch 50 of 100 --------------------\n",
      "Iteration: 0 of 0\ttrain_loss: 4.1126\n",
      "Average Score for this Epoch: 4.112608432769775\n",
      "--- new best score ---\n",
      "\n",
      "\n",
      "-------------------- Epoch 51 of 100 --------------------\n",
      "Iteration: 0 of 0\ttrain_loss: 4.0922\n",
      "Average Score for this Epoch: 4.092197418212891\n",
      "--- new best score ---\n",
      "\n",
      "\n",
      "-------------------- Epoch 52 of 100 --------------------\n",
      "Iteration: 0 of 0\ttrain_loss: 4.0780\n",
      "Average Score for this Epoch: 4.0779900550842285\n",
      "--- new best score ---\n",
      "\n",
      "\n",
      "-------------------- Epoch 53 of 100 --------------------\n",
      "Iteration: 0 of 0\ttrain_loss: 4.0630\n",
      "Average Score for this Epoch: 4.062950134277344\n",
      "--- new best score ---\n",
      "\n",
      "\n",
      "-------------------- Epoch 54 of 100 --------------------\n",
      "Iteration: 0 of 0\ttrain_loss: 4.0479\n",
      "Average Score for this Epoch: 4.047871112823486\n",
      "--- new best score ---\n",
      "\n",
      "\n",
      "-------------------- Epoch 55 of 100 --------------------\n",
      "Iteration: 0 of 0\ttrain_loss: 4.0358\n",
      "Average Score for this Epoch: 4.0358195304870605\n",
      "--- new best score ---\n",
      "\n",
      "\n",
      "-------------------- Epoch 56 of 100 --------------------\n",
      "Iteration: 0 of 0\ttrain_loss: 4.0369\n",
      "Average Score for this Epoch: 4.03694486618042\n",
      "-------------------- Epoch 57 of 100 --------------------\n",
      "Iteration: 0 of 0\ttrain_loss: 4.0548\n",
      "Average Score for this Epoch: 4.054764747619629\n",
      "-------------------- Epoch 58 of 100 --------------------\n",
      "Iteration: 0 of 0\ttrain_loss: 4.0003\n",
      "Average Score for this Epoch: 4.000261306762695\n",
      "--- new best score ---\n",
      "\n",
      "\n",
      "-------------------- Epoch 59 of 100 --------------------\n",
      "Iteration: 0 of 0\ttrain_loss: 3.9950\n",
      "Average Score for this Epoch: 3.994995355606079\n",
      "--- new best score ---\n",
      "\n",
      "\n",
      "-------------------- Epoch 60 of 100 --------------------\n",
      "Iteration: 0 of 0\ttrain_loss: 4.0062\n",
      "Average Score for this Epoch: 4.006175518035889\n",
      "-------------------- Epoch 61 of 100 --------------------\n",
      "Iteration: 0 of 0\ttrain_loss: 3.9526\n",
      "Average Score for this Epoch: 3.952590227127075\n",
      "--- new best score ---\n",
      "\n",
      "\n",
      "-------------------- Epoch 62 of 100 --------------------\n",
      "Iteration: 0 of 0\ttrain_loss: 3.9665\n",
      "Average Score for this Epoch: 3.9664976596832275\n",
      "-------------------- Epoch 63 of 100 --------------------\n",
      "Iteration: 0 of 0\ttrain_loss: 3.9226\n",
      "Average Score for this Epoch: 3.922618865966797\n",
      "--- new best score ---\n",
      "\n",
      "\n",
      "-------------------- Epoch 64 of 100 --------------------\n",
      "Iteration: 0 of 0\ttrain_loss: 3.9186\n",
      "Average Score for this Epoch: 3.9186341762542725\n",
      "--- new best score ---\n",
      "\n",
      "\n",
      "-------------------- Epoch 65 of 100 --------------------\n",
      "Iteration: 0 of 0\ttrain_loss: 3.8977\n",
      "Average Score for this Epoch: 3.8977067470550537\n",
      "--- new best score ---\n",
      "\n",
      "\n",
      "-------------------- Epoch 66 of 100 --------------------\n",
      "Iteration: 0 of 0\ttrain_loss: 3.8633\n",
      "Average Score for this Epoch: 3.863286256790161\n",
      "--- new best score ---\n",
      "\n",
      "\n",
      "-------------------- Epoch 67 of 100 --------------------\n",
      "Iteration: 0 of 0\ttrain_loss: 3.8676\n",
      "Average Score for this Epoch: 3.867611885070801\n",
      "-------------------- Epoch 68 of 100 --------------------\n",
      "Iteration: 0 of 0\ttrain_loss: 3.8390\n",
      "Average Score for this Epoch: 3.838972806930542\n",
      "--- new best score ---\n",
      "\n",
      "\n",
      "-------------------- Epoch 69 of 100 --------------------\n",
      "Iteration: 0 of 0\ttrain_loss: 3.8181\n",
      "Average Score for this Epoch: 3.8180665969848633\n",
      "--- new best score ---\n",
      "\n",
      "\n",
      "-------------------- Epoch 70 of 100 --------------------\n",
      "Iteration: 0 of 0\ttrain_loss: 3.8072\n",
      "Average Score for this Epoch: 3.807190179824829\n",
      "--- new best score ---\n",
      "\n",
      "\n",
      "-------------------- Epoch 71 of 100 --------------------\n",
      "Iteration: 0 of 0\ttrain_loss: 3.7799\n",
      "Average Score for this Epoch: 3.7799432277679443\n",
      "--- new best score ---\n",
      "\n",
      "\n",
      "-------------------- Epoch 72 of 100 --------------------\n",
      "Iteration: 0 of 0\ttrain_loss: 3.7645\n",
      "Average Score for this Epoch: 3.764535427093506\n",
      "--- new best score ---\n",
      "\n",
      "\n",
      "-------------------- Epoch 73 of 100 --------------------\n",
      "Iteration: 0 of 0\ttrain_loss: 3.7596\n",
      "Average Score for this Epoch: 3.7596046924591064\n",
      "--- new best score ---\n",
      "\n",
      "\n",
      "-------------------- Epoch 74 of 100 --------------------\n",
      "Iteration: 0 of 0\ttrain_loss: 3.7316\n",
      "Average Score for this Epoch: 3.73156476020813\n",
      "--- new best score ---\n",
      "\n",
      "\n",
      "-------------------- Epoch 75 of 100 --------------------\n",
      "Iteration: 0 of 0\ttrain_loss: 3.6994\n",
      "Average Score for this Epoch: 3.6994426250457764\n",
      "--- new best score ---\n",
      "\n",
      "\n",
      "-------------------- Epoch 76 of 100 --------------------\n",
      "Iteration: 0 of 0\ttrain_loss: 3.6872\n",
      "Average Score for this Epoch: 3.6872308254241943\n",
      "--- new best score ---\n",
      "\n",
      "\n",
      "-------------------- Epoch 77 of 100 --------------------\n",
      "Iteration: 0 of 0\ttrain_loss: 3.6653\n",
      "Average Score for this Epoch: 3.665252923965454\n",
      "--- new best score ---\n",
      "\n",
      "\n",
      "-------------------- Epoch 78 of 100 --------------------\n",
      "Iteration: 0 of 0\ttrain_loss: 3.6377\n",
      "Average Score for this Epoch: 3.637723684310913\n",
      "--- new best score ---\n",
      "\n",
      "\n",
      "-------------------- Epoch 79 of 100 --------------------\n",
      "Iteration: 0 of 0\ttrain_loss: 3.6186\n",
      "Average Score for this Epoch: 3.618629217147827\n",
      "--- new best score ---\n",
      "\n",
      "\n",
      "-------------------- Epoch 80 of 100 --------------------\n",
      "Iteration: 0 of 0\ttrain_loss: 3.5979\n",
      "Average Score for this Epoch: 3.597933292388916\n",
      "--- new best score ---\n",
      "\n",
      "\n",
      "-------------------- Epoch 81 of 100 --------------------\n",
      "Iteration: 0 of 0\ttrain_loss: 3.5814\n",
      "Average Score for this Epoch: 3.581442356109619\n",
      "--- new best score ---\n",
      "\n",
      "\n",
      "-------------------- Epoch 82 of 100 --------------------\n",
      "Iteration: 0 of 0\ttrain_loss: 3.5655\n",
      "Average Score for this Epoch: 3.5654947757720947\n",
      "--- new best score ---\n",
      "\n",
      "\n",
      "-------------------- Epoch 83 of 100 --------------------\n",
      "Iteration: 0 of 0\ttrain_loss: 3.5603\n",
      "Average Score for this Epoch: 3.5603291988372803\n",
      "--- new best score ---\n",
      "\n",
      "\n",
      "-------------------- Epoch 84 of 100 --------------------\n",
      "Iteration: 0 of 0\ttrain_loss: 3.5461\n",
      "Average Score for this Epoch: 3.546121597290039\n",
      "--- new best score ---\n",
      "\n",
      "\n",
      "-------------------- Epoch 85 of 100 --------------------\n",
      "Iteration: 0 of 0\ttrain_loss: 3.5196\n",
      "Average Score for this Epoch: 3.519601345062256\n",
      "--- new best score ---\n",
      "\n",
      "\n",
      "-------------------- Epoch 86 of 100 --------------------\n",
      "Iteration: 0 of 0\ttrain_loss: 3.4730\n",
      "Average Score for this Epoch: 3.472965955734253\n",
      "--- new best score ---\n",
      "\n",
      "\n",
      "-------------------- Epoch 87 of 100 --------------------\n",
      "Iteration: 0 of 0\ttrain_loss: 3.4439\n",
      "Average Score for this Epoch: 3.443887233734131\n",
      "--- new best score ---\n",
      "\n",
      "\n",
      "-------------------- Epoch 88 of 100 --------------------\n",
      "Iteration: 0 of 0\ttrain_loss: 3.4301\n",
      "Average Score for this Epoch: 3.430122137069702\n",
      "--- new best score ---\n",
      "\n",
      "\n",
      "-------------------- Epoch 89 of 100 --------------------\n",
      "Iteration: 0 of 0\ttrain_loss: 3.4284\n",
      "Average Score for this Epoch: 3.428422451019287\n",
      "--- new best score ---\n",
      "\n",
      "\n",
      "-------------------- Epoch 90 of 100 --------------------\n",
      "Iteration: 0 of 0\ttrain_loss: 3.4217\n",
      "Average Score for this Epoch: 3.4217162132263184\n",
      "--- new best score ---\n",
      "\n",
      "\n",
      "-------------------- Epoch 91 of 100 --------------------\n",
      "Iteration: 0 of 0\ttrain_loss: 3.3621\n",
      "Average Score for this Epoch: 3.362067222595215\n",
      "--- new best score ---\n",
      "\n",
      "\n",
      "-------------------- Epoch 92 of 100 --------------------\n",
      "Iteration: 0 of 0\ttrain_loss: 3.3178\n",
      "Average Score for this Epoch: 3.317843198776245\n",
      "--- new best score ---\n",
      "\n",
      "\n",
      "-------------------- Epoch 93 of 100 --------------------\n",
      "Iteration: 0 of 0\ttrain_loss: 3.3080\n",
      "Average Score for this Epoch: 3.3079915046691895\n",
      "--- new best score ---\n",
      "\n",
      "\n",
      "-------------------- Epoch 94 of 100 --------------------\n",
      "Iteration: 0 of 0\ttrain_loss: 3.2933\n",
      "Average Score for this Epoch: 3.2933437824249268\n",
      "--- new best score ---\n",
      "\n",
      "\n",
      "-------------------- Epoch 95 of 100 --------------------\n",
      "Iteration: 0 of 0\ttrain_loss: 3.2745\n",
      "Average Score for this Epoch: 3.274533271789551\n",
      "--- new best score ---\n",
      "\n",
      "\n",
      "-------------------- Epoch 96 of 100 --------------------\n",
      "Iteration: 0 of 0\ttrain_loss: 3.2317\n",
      "Average Score for this Epoch: 3.2316622734069824\n",
      "--- new best score ---\n",
      "\n",
      "\n",
      "-------------------- Epoch 97 of 100 --------------------\n",
      "Iteration: 0 of 0\ttrain_loss: 3.1923\n",
      "Average Score for this Epoch: 3.1922543048858643\n",
      "--- new best score ---\n",
      "\n",
      "\n",
      "-------------------- Epoch 98 of 100 --------------------\n",
      "Iteration: 0 of 0\ttrain_loss: 3.1759\n",
      "Average Score for this Epoch: 3.1758759021759033\n",
      "--- new best score ---\n",
      "\n",
      "\n",
      "-------------------- Epoch 99 of 100 --------------------\n",
      "Iteration: 0 of 0\ttrain_loss: 3.1731\n",
      "Average Score for this Epoch: 3.1730761528015137\n",
      "--- new best score ---\n",
      "\n",
      "\n",
      "-------------------- Epoch 100 of 100 --------------------\n",
      "Iteration: 0 of 0\ttrain_loss: 3.1730\n",
      "Average Score for this Epoch: 3.1729774475097656\n",
      "--- new best score ---\n",
      "\n",
      "\n"
     ]
    }
   ],
   "source": [
    "# build graph and train the model \n",
    "summarizer_model_utils.reset_graph()\n",
    "summarizer = Summarizer.Summarizer(word2ind,\n",
    "                                   ind2word,\n",
    "                                   save_path='./models/speeches/my_model',\n",
    "                                   mode='TRAIN',\n",
    "                                   num_layers_encoder = num_layers_encoder,\n",
    "                                   num_layers_decoder = num_layers_decoder,\n",
    "                                   rnn_size_encoder = rnn_size_encoder,\n",
    "                                   rnn_size_decoder = rnn_size_decoder,\n",
    "                                   batch_size = batch_size,\n",
    "                                   clip = clip,\n",
    "                                   keep_probability = keep_probability,\n",
    "                                   learning_rate = learning_rate,\n",
    "                                   max_lr=max_lr,\n",
    "                                   learning_rate_decay_steps = learning_rate_decay_steps,\n",
    "                                   learning_rate_decay = learning_rate_decay,\n",
    "                                   epochs = epochs,\n",
    "                                   pretrained_embeddings_path = pretrained_embeddings_path,\n",
    "                                   use_cyclic_lr = use_cyclic_lr,)\n",
    "                                \n",
    "\n",
    "summarizer.build_graph()\n",
    "summarizer.train(converted_texts, \n",
    "                converted_summaries)\n"
   ]
  },
  {
   "cell_type": "code",
   "execution_count": 116,
   "metadata": {},
   "outputs": [
    {
     "data": {
      "text/plain": [
       "11"
      ]
     },
     "execution_count": 116,
     "metadata": {},
     "output_type": "execute_result"
    }
   ],
   "source": [
    "len(converted_texts[:50])\n",
    "len(converted_texts)"
   ]
  },
  {
   "cell_type": "markdown",
   "metadata": {
    "colab_type": "text",
    "id": "MjUaeeaWMRzG"
   },
   "source": [
    "### Inference\n",
    "Now we can use our trained model to create summaries. Here we are clearly overfitting, as we only trained on 11 examples. (i.e. the model does not generalize at all.)\n"
   ]
  },
  {
   "cell_type": "code",
   "execution_count": 117,
   "metadata": {
    "colab": {
     "autoexec": {
      "startup": false,
      "wait_interval": 0
     },
     "base_uri": "https://localhost:8080/",
     "height": 85
    },
    "colab_type": "code",
    "executionInfo": {
     "elapsed": 6081,
     "status": "ok",
     "timestamp": 1526306582837,
     "user": {
      "displayName": "Thomas Schmied",
      "photoUrl": "https://lh3.googleusercontent.com/a/default-user=s128",
      "userId": "102636220151368904258"
     },
     "user_tz": -120
    },
    "id": "cgmYrJr5MRzH",
    "outputId": "a612f97b-d518-4639-bc1f-47fc80c53608"
   },
   "outputs": [
    {
     "name": "stdout",
     "output_type": "stream",
     "text": [
      "Loaded pretrained embeddings.\n",
      "Graph built.\n",
      "INFO:tensorflow:Restoring parameters from ./models/headlines/my_model\n"
     ]
    },
    {
     "name": "stderr",
     "output_type": "stream",
     "text": [
      "I0413 13:54:02.410489 4320859008 saver.py:1270] Restoring parameters from ./models/headlines/my_model\n"
     ]
    },
    {
     "name": "stdout",
     "output_type": "stream",
     "text": [
      "Done.\n"
     ]
    }
   ],
   "source": [
    "summarizer_model_utils.reset_graph()\n",
    "summarizer = Summarizer.Summarizer(word2ind,\n",
    "                                   ind2word,\n",
    "                                   './models/speeches/my_model',\n",
    "                                   'INFER',\n",
    "                                   num_layers_encoder = num_layers_encoder,\n",
    "                                   num_layers_decoder = num_layers_decoder,\n",
    "                                   batch_size = len(converted_texts[:50]),\n",
    "                                   clip = clip,\n",
    "                                   keep_probability = 1.0,\n",
    "                                   learning_rate = 0.0,\n",
    "                                   beam_width = 5,\n",
    "                                   rnn_size_encoder = rnn_size_encoder,\n",
    "                                   rnn_size_decoder = rnn_size_decoder,\n",
    "                                   inference_targets = False,\n",
    "                                   pretrained_embeddings_path = pretrained_embeddings_path)\n",
    "\n",
    "summarizer.build_graph()\n",
    "preds = summarizer.infer(converted_texts[:50],\n",
    "                         restore_path =  './models/speeches/my_model',\n",
    "                         targets = converted_summaries[:50])\n",
    "\n",
    "\n"
   ]
  },
  {
   "cell_type": "code",
   "execution_count": 118,
   "metadata": {
    "colab": {
     "autoexec": {
      "startup": false,
      "wait_interval": 0
     },
     "base_uri": "https://localhost:8080/",
     "height": 11937
    },
    "colab_type": "code",
    "executionInfo": {
     "elapsed": 471,
     "status": "ok",
     "timestamp": 1526306583402,
     "user": {
      "displayName": "Thomas Schmied",
      "photoUrl": "https://lh3.googleusercontent.com/a/default-user=s128",
      "userId": "102636220151368904258"
     },
     "user_tz": -120
    },
    "id": "S6W26gwxMRzJ",
    "outputId": "63feeb5a-7fa5-4241-dce8-01396ac39646",
    "scrolled": false
   },
   "outputs": [
    {
     "name": "stdout",
     "output_type": "stream",
     "text": [
      "\n",
      "\n",
      "\n",
      " ----------------------------------------------------------------------------------------------------\n",
      "Actual Text:\n",
      "for <UNK> and for our nation i want to thank my predecessor for all he has done to heal our land in this <UNK> and physical ceremony we <UNK> once again to the inner and <UNK> strength of our nation as my high <UNK> <UNK> <UNK> <UNK> <UNK> used to say we must <UNK> to changing times and still hold to <UNK> principles here before me is the bible used in the inauguration of our first president in <UNK> and i have just taken the oath of office on the bible my <UNK> gave me just a few years ago opened to a timeless <UNK> from the ancient prophet micah he <UNK> <UNK> thee o man what is good and what <UNK> the lord require of thee but to do <UNK> and to love mercy and to walk <UNK> with <UNK> god this inauguration ceremony <UNK> a new beginning a new dedication within our government and a new spirit among us all a president may sense and proclaim that new spirit but only a people can provide it two centuries ago our nation s birth was a <UNK> in the long quest for freedom but the bold and <UNK> dream which <UNK> the founders of this nation still <UNK> its <UNK> i have no new dream to set forth today but rather urge a <UNK> faith in the old dream ours was the first society openly to define itself in <UNK> of both <UNK> and human liberty it is that unique self definition which has given us an exceptional appeal but it also <UNK> on us a special obligation to take on those moral duties which when <UNK> seem <UNK> to be in our own best interests you have given me a great responsibility to stay close to you to be worthy of you and to <UNK> what you are let us create together a new national spirit of unity and trust your strength can <UNK> for my weakness and your wisdom can help to <UNK> my mistakes let us learn together and <UNK> together and work together and <UNK> together confident that in the end we will triumph together in the right the american dream endures we must once again have full faith in our country and in one another i believe america can be better we can be even stronger than before let our <UNK> mistakes bring a <UNK> commitment to the basic principles of our nation for we know that if we <UNK> our own government we have no future we recall in special times when we have stood <UNK> but <UNK> united in those times no <UNK> was beyond our <UNK> but we can not <UNK> upon remembered glory we can not afford to drift we reject the prospect of failure or <UNK> or an <UNK> quality of life for any person our government must at the same time be both <UNK> and compassionate we have already found a high degree of personal liberty and we are now struggling to enhance equality of opportunity our commitment to human rights must be <UNK> our laws fair our national beauty preserved the powerful must not <UNK> the weak and human dignity must be <UNK> we have learned that more is not <UNK> better that even our great nation has its <UNK> limits and that we can neither answer all questions nor solve all problems we can not afford to do <UNK> nor can we afford to <UNK> boldness as we meet the future so together in a spirit of individual sacrifice for the common good we must simply do our best our nation can be strong abroad only if it is strong at home and we know that the best way to enhance freedom in other lands is to <UNK> here that our democratic system is worthy of <UNK> to be true to ourselves we must be true to others we will not <UNK> in foreign places so as to <UNK> our rules and standards here at home for we know that the trust which our nation <UNK> is essential to our strength the world itself is now <UNK> by a new spirit peoples more <UNK> and more <UNK> <UNK> are <UNK> and now <UNK> their place in the sun not just for the benefit of their own physical <UNK> but for basic human rights the passion for freedom is on the rise <UNK> this new spirit there can be no <UNK> nor more <UNK> task for america to undertake on this day of a new beginning than to help shape a just and peaceful world that is truly <UNK> we are a strong nation and we will maintain strength so sufficient that it need not be proven in combat a quiet strength based not merely on the size of an arsenal but on the nobility of ideas we will be ever vigilant and never vulnerable and we will fight our wars against poverty ignorance and <UNK> for those are the enemies against which our forces can be <UNK> <UNK> we are a proudly idealistic nation but let no one <UNK> our idealism with weakness because we are free we can never be <UNK> to the fate of freedom <UNK> our moral sense <UNK> a clear cut <UNK> for those <UNK> which share with us an abiding respect for individual human rights we do not seek to <UNK> but it is clear that a world which others can <UNK> with <UNK> would be <UNK> to decency and a threat to the well being of all people the world is still engaged in a massive armaments race <UNK> to ensure continuing <UNK> strength among potential adversaries we pledge <UNK> and wisdom in our efforts to limit the world s armaments to those necessary for each nation s own domestic safety and we will move this year a <UNK> toward our ultimate goal the elimination of all nuclear weapons from this earth we urge all other people to join us for success can mean life instead of <UNK> within us the people of the united states there is evident a serious and <UNK> <UNK> of confidence and i join in the hope that when my time as your president has ended people might say this about our nation that we had remembered the words of micah and renewed <UNK> for humility mercy and justice that we had torn down the barriers that <UNK> those of different race and <UNK> and <UNK> and where there had been mistrust built unity with a respect for diversity that we had found productive work for those able to perform it that we had strengthened the american family which is the <UNK> of our society that we had <UNK> respect for the law and equal treatment under the law for the weak and the powerful for the rich and the poor and that we had <UNK> our people to be proud of their own government once again i would hope that the nations of the world might say that we had built a lasting peace based not on weapons of war but on international policies which reflect our own most precious values these are not just my goals and they will not be my <UNK> but the <UNK> of our nation s continuing moral strength and our belief in an undiminished ever <UNK> american dream thank you very much\n",
      "\n",
      "Actual Summary:\n",
      "we are a strong nation and we will maintain strength so sufficient that it need not be proven in combat a quiet strength based not merely on the size of an arsenal but on the nobility of ideas\n",
      "\n",
      "Created Summary:\n",
      "we we strong strong strong nation we will maintain maintain strength sufficient sufficient sufficient need need need not\n",
      "\n",
      "\n",
      "\n",
      "\n",
      "\n",
      " ----------------------------------------------------------------------------------------------------\n",
      "Actual Text:\n",
      "senator <UNK> mr chief justice mr president vice president bush vice president <UNK> senator <UNK> speaker o neill reverend <UNK> and my fellow citizens to a few of us here today this is a solemn and most <UNK> occasion and yet in the history of our nation it is a commonplace <UNK> the orderly transfer of authority as called for in the constitution <UNK> takes place as it has for almost two centuries and few of us stop to think how unique we <UNK> are in the eyes of many in the world this every 4 year ceremony we accept as <UNK> is nothing less than a <UNK> mr president i want our fellow citizens to know how much you did to carry on this tradition by your gracious cooperation in the transition process you have shown a watching world that we are a united people pledged to maintaining a political system which <UNK> individual liberty to a greater degree than any other and i thank you and your people for all your help in maintaining the continuity which is the <UNK> of our republic the business of our nation goes forward these united states are <UNK> with an economic <UNK> of great <UNK> we suffer from the <UNK> and one of the worst sustained <UNK> in our national history it <UNK> our economic decisions penalizes <UNK> and <UNK> the struggling young and the fixed <UNK> elderly <UNK> it threatens to <UNK> the lives of millions of our people <UNK> industries have cast workers into <UNK> human <UNK> and personal <UNK> those who do work are denied a fair return for their labor by a tax system which penalizes <UNK> achievement and <UNK> us from maintaining full productivity but great as our tax burden is it has not <UNK> <UNK> with public spending for decades we have <UNK> deficit upon deficit <UNK> our future and our children s future for the <UNK> <UNK> of the present to continue this long <UNK> is to guarantee <UNK> social <UNK> political and economic <UNK> you and i as individuals can by <UNK> live beyond our means but for only a limited <UNK> of time why then should we think that <UNK> as a nation we re not bound by that same limitation we must act today in order to preserve tomorrow and let there be no misunderstanding we are going to begin to act beginning today the economic ills we suffer have come upon us over <UNK> decades they will not go away in days <UNK> or months but they will go away they will go away because we as americans have the capacity now as we ve had in the past to do whatever needs to be done to preserve this last and greatest <UNK> of freedom in this present crisis government is not the solution to our problem government is the problem from time to time we ve been tempted to believe that society has become too complex to be managed by self rule that government by an elite group is superior to government for by and of the people well if no one among us is capable of governing himself then who among us has the capacity to govern <UNK> else all of us together in and out of government must bear the burden the <UNK> we seek must be <UNK> with no one group <UNK> out to pay a higher price we hear much of special interest <UNK> well our concern must be for a special interest group that has been too long <UNK> it knows no <UNK> boundaries or ethnic and racial divisions and it crosses political party lines it is made up of men and women who raise our food patrol our streets man our <UNK> and factories teach our children keep our homes and heal us when we re sick <UNK> <UNK> <UNK> <UNK> <UNK> and <UNK> <UNK> they are in short we the people this <UNK> called americans well this administration s objective will be a <UNK> <UNK> growing economy that provides equal opportunities for all americans with no barriers born of bigotry or <UNK> putting america back to work means putting all americans back to work ending inflation means <UNK> all americans from the terror of <UNK> living <UNK> all must share in the productive work of this new beginning and all must share in the bounty of a <UNK> economy with the idealism and fair play which are the core of our system and our strength we can have a strong and prosperous america at peace with itself and the world so as we begin let us take <UNK> we are a nation that has a government not the other way around and this makes us special among the nations of the earth our government has no power <UNK> that granted it by the people it is time to <UNK> and reverse the growth of government which <UNK> signs of having grown beyond the <UNK> of the governed it is my intention to <UNK> the size and influence of the federal establishment and to demand recognition of the <UNK> between the <UNK> granted to the federal government and those reserved to the states or to the people all of us need to be reminded that the federal government did not create the states the states created the federal government now so there will be no misunderstanding it s not my intention to do away with government it is rather to make it work work with us not over us to stand by our side not <UNK> on our back government can and must provide opportunity not <UNK> it <UNK> productivity not <UNK> it if we look to the answer as to why for so many years we achieved so much prospered as no other people on earth it was because here in this land we <UNK> the energy and individual genius of man to a greater <UNK> than has ever been done before freedom and the dignity of the individual have been more <UNK> and assured here than in any other place on earth the price for this freedom at times has been high but we have never been unwilling to pay that price it is no <UNK> that our present <UNK> <UNK> and are <UNK> to the <UNK> and <UNK> in our lives that <UNK> from <UNK> and <UNK> growth of government it is time for us to realize that we re too great a nation to limit ourselves to small dreams we re not as some would have us believe <UNK> to an inevitable decline i do not believe in a fate that will fall on us no matter what we do i do believe in a fate that will fall on us if we do nothing so with all the <UNK> energy at our <UNK> let us begin an era of national renewal let us renew our determination our courage and our strength and let us renew our faith and our hope we have every right to dream heroic dreams those who say that we re in a time when there are not heroes they just don t know where to look you can see heroes every day going in and out of <UNK> <UNK> others a <UNK> in number produce enough food to feed all of us and then the world beyond you meet heroes across a counter and they re on both <UNK> of that counter there are <UNK> with faith in themselves and faith in an idea who create new jobs new wealth and opportunity they re individuals and families whose taxes support the government and whose <UNK> gifts support church charity culture <UNK> and education their patriotism is quiet but deep their values sustain our national life now i have used the words they and their in speaking of these heroes i could say you and your because i m <UNK> the heroes of whom i speak you the citizens of this blessed land your dreams your hopes your goals are going to be the dreams the hopes and the goals of this administration so help me god we shall reflect the compassion that is so much a part of your <UNK> how can we love our country and not love our <UNK> and loving them reach out a hand when they fall heal them when they re sick and provide opportunity to make them self sufficient so they will be equal in fact and not just in <UNK> can we solve the problems confronting us well the answer is an <UNK> and <UNK> yes to <UNK> <UNK> <UNK> i did not take the oath i ve just taken with the intention of <UNK> over the <UNK> of the world s strongest economy in the days ahead i will <UNK> <UNK> the <UNK> that have <UNK> our economy and reduced productivity steps will be taken aimed at restoring the balance between the <UNK> <UNK> of government progress may be slow <UNK> in <UNK> and <UNK> not <UNK> but we will progress it is time to <UNK> this industrial <UNK> to get government back within its means and to <UNK> our <UNK> tax burden and these will be our first priorities and on these principles there will be no compromise on the <UNK> of our struggle for independence a man who might have been one of the greatest among the founding fathers <UNK> <UNK> <UNK> president of the <UNK> congress said to his fellow americans our country is in danger but not to be <UNK> of on you depend the fortunes of america you are to <UNK> the important questions upon which <UNK> the happiness and the liberty of millions yet unborn act worthy of <UNK> well i believe we the americans of today are ready to act worthy of ourselves ready to do what must be done to ensure happiness and liberty for ourselves our children and our children s children and as we renew ourselves here in our own land we will be seen as having greater strength throughout the world we will again be the <UNK> of freedom and a <UNK> of hope for those who do not now have freedom to those neighbors and allies who share our freedom we will strengthen our historic ties and assure them of our support and firm commitment we will match loyalty with loyalty we will strive for <UNK> <UNK> relations we will not use our friendship to impose on their sovereignty for our own sovereignty is not for <UNK> as for the enemies of freedom those who are potential adversaries they will be reminded that peace is the highest <UNK> of the american people we will negotiate for it sacrifice for it we will not <UNK> for it now or ever our <UNK> should never be <UNK> our <UNK> for conflict should not be <UNK> as a failure of will when action is required to preserve our national security we will act we will maintain sufficient strength to <UNK> if need be knowing that if we do so we have the best chance of never having to use that strength above all we must realize that no arsenal or no weapon in the arsenals of the world is so <UNK> as the will and moral courage of free men and women it is a weapon our adversaries in today s world do not have it is a weapon that we as americans do have let that be understood by those who <UNK> terrorism and <UNK> upon their neighbors i m told that tens of thousands of prayer <UNK> are being held on this day and for that i m <UNK> grateful we are a nation under god and i believe god intended for us to be free it would be <UNK> and good i think if on each <UNK> day in future years it should be declared a day of prayer this is the first time in our history that this ceremony has been held as you ve been told on this west front of the capitol standing here one faces a magnificent <UNK> <UNK> up on this city s special beauty and history at the end of this open mall are those <UNK> to the <UNK> on whose shoulders we stand <UNK> in front of me the monument to a <UNK> man george washington father of our country a man of humility who came to greatness <UNK> he led america out of <UNK> victory into <UNK> <UNK> off to one side the stately memorial to thomas jefferson the declaration of independence flames with his <UNK> and then beyond the <UNK> <UNK> the dignified <UNK> of the lincoln memorial <UNK> would understand in his heart the meaning of america will find it in the life of abraham lincoln beyond those <UNK> to <UNK> is the <UNK> river and on the far <UNK> the <UNK> hills of arlington national <UNK> with its row upon row of simple white markers <UNK> crosses or stars of <UNK> they add up to only a <UNK> <UNK> of the price that has been paid for our freedom each one of those markers is a monument to the kind of <UNK> i spoke of earlier their lives ended in places called <UNK> <UNK> the <UNK> <UNK> <UNK> <UNK> and <UNK> around the world on <UNK> <UNK> <UNK> <UNK> <UNK> the <UNK> <UNK> and in a <UNK> <UNK> <UNK> and <UNK> of a place called vietnam under one such <UNK> <UNK> a young man martin treptow who left his job in a small town <UNK> in <UNK> to go to <UNK> with the <UNK> <UNK> division there on the <UNK> front he was <UNK> trying to carry a message between <UNK> under <UNK> <UNK> fire we re told that on his body was found a <UNK> on the <UNK> under the <UNK> my pledge he had written these words america must win this war <UNK> i will work i will <UNK> i will sacrifice i will endure i will fight <UNK> and do my utmost as if the <UNK> of the whole struggle depended on me alone the crisis we are facing today does not require of us the kind of sacrifice that martin treptow and so many thousands of others were called upon to make it does require however our best effort and our willingness to believe in ourselves and to believe in our capacity to perform great <UNK> to believe that together with god s help we can and will resolve the problems which now confront us and after all why <UNK> t we believe that we are americans god bless you and thank you\n",
      "\n",
      "Actual Summary:\n",
      "from time to time we ve been tempted to believe that society has become too complex to be managed by self rule that government by an elite group is superior to government for by and of the people\n",
      "\n",
      "Created Summary:\n",
      "from time time time time ve ve been to to that that that has to to to to to the\n",
      "\n",
      "\n",
      "\n",
      "\n",
      "\n",
      " ----------------------------------------------------------------------------------------------------\n",
      "Actual Text:\n",
      "senator mathias chief justice <UNK> vice president bush speaker o neill senator dole reverend clergy and members of my family and friends and my fellow citizens this day has been made brighter with the <UNK> here of one who for a time has been <UNK> senator john <UNK> god bless you and welcome back there is however one who is not with us today <UNK> <UNK> long of <UNK> left us last night and i <UNK> if we could all join in a moment of <UNK> prayer the president <UNK> speaking after a moment of <UNK> amen there are no words <UNK> to express my thanks for the great honor that you ve bestowed on me i ll do my utmost to be deserving of your trust this is as senator mathias told us the 50th time that we the people have celebrated this historic occasion when the first president george washington placed his hand upon the bible he stood less than a single day s journey by horseback from raw untamed <UNK> there were 4 <UNK> americans in a union of <UNK> states today we are 60 times as many in a union of 50 states we ve <UNK> the world with our <UNK> <UNK> to the aid of mankind wherever in the world there was a <UNK> for help <UNK> to the <UNK> and safely returned so much has changed and yet we stand together as we did two centuries ago when i took this oath 4 years ago i did so in a time of economic <UNK> voices were raised <UNK> that we had to look to our past for the greatness and glory but we the present day americans are not given to looking <UNK> in this blessed land there is always a better tomorrow four years ago i spoke to you of a new beginning and we have <UNK> that but in another sense our new beginning is a continuation of that beginning created two centuries ago when for the first time in history government the people said was not our master it is our servant its only power that which we the people allow it to have that system has never failed us but for a time we failed the system we asked things of government that government was not <UNK> to give we <UNK> authority to the national government that <UNK> <UNK> to states or to local governments or to the people themselves we <UNK> taxes and inflation to <UNK> us of our earnings and savings and watched the great industrial <UNK> that had made us the most productive people on earth slow down and the number of <UNK> increase by 1980 we knew it was time to renew our faith to strive with all our strength toward the ultimate in individual freedom consistent with an orderly society we believed then and now there are no limits to growth and human progress when men and women are free to follow their dreams and we were right to believe that tax rates have been reduced inflation cut <UNK> and more people are <UNK> than ever before in our history we are <UNK> a nation once again <UNK> <UNK> and alive but there are many mountains yet to <UNK> we will not rest until every american <UNK> the fullness of freedom dignity and opportunity as our birthright it is our birthright as citizens of this great republic and if we meet this challenge these will be years when americans have <UNK> their confidence and tradition of progress when our values of faith family work and neighborhood were <UNK> for a modern age when our economy was finally <UNK> from government s <UNK> when we made <UNK> efforts at <UNK> arms <UNK> and by rebuilding our defenses our economy and <UNK> new technologies helped preserve peace in a troubled world when america <UNK> supported the struggle for individual liberty self government and free enterprise throughout the world and turned the <UNK> of history away from totalitarian <UNK> and into the <UNK> <UNK> of human freedom my fellow citizens our nation is <UNK> for greatness we must do what we know is right and do it with all our might let history say of us these were <UNK> years when the american revolution was reborn when freedom <UNK> new life and america reached for her best our two party system has <UNK> us served us i should say well over the years but never better than in those times of great challenge when we came together not as <UNK> or <UNK> but as americans united in a common cause two of our founding fathers a <UNK> <UNK> named <UNK> and a virginia <UNK> named jefferson members of that remarkable group who met in independence hall and <UNK> to think they could start the world over again left us an important lesson they had become in the years then in government bitter political <UNK> in the presidential <UNK> of <UNK> then years <UNK> when both were <UNK> and age had <UNK> their <UNK> they began to speak to each other again through letters a <UNK> was <UNK> between those two who had helped create this government of ours in <UNK> the 50th <UNK> of the declaration of independence they both died they died on the same day within a few hours of each other and that day was the <UNK> of <UNK> in one of those letters <UNK> in the <UNK> of their lives jefferson wrote it <UNK> me back to the times when <UNK> with <UNK> and dangers we were fellow <UNK> in the same cause struggling for what is most <UNK> to man his right of self government laboring always at the same <UNK> with some wave ever ahead <UNK> to <UNK> us and yet passing <UNK> we <UNK> through the storm with heart and hand well with heart and hand let us stand as one today one people under god determined that our future shall be worthy of our past as we do we must not <UNK> the well <UNK> <UNK> of our past we must never again abuse the trust of working men and women by <UNK> their earnings on a <UNK> <UNK> after the <UNK> demands of a <UNK> federal establishment you <UNK> us in 1980 to end this <UNK> for disaster and i don t believe you <UNK> us in <UNK> to reverse course at the heart of our efforts is one idea <UNK> by <UNK> <UNK> months of economic growth freedom and <UNK> unleash the drive and <UNK> genius that are the core of human progress we have begun to increase the rewards for work savings and investment reduce the increase in the cost and size of government and its <UNK> in people s lives we must <UNK> our tax system make it more fair and bring the rates down for all who work and earn we must think anew and move with a new boldness so every american who seeks work can find work so the <UNK> among us shall have an equal chance to achieve the greatest things to be heroes who heal our sick feed the hungry protect peace among nations and leave this world a better place the time has come for a new american <UNK> a great national drive to <UNK> down economic barriers and liberate the spirit of enterprise in the most <UNK> areas of our country my friends together we can do this and do it we must so help me god from new freedom will spring new opportunities for growth a more productive fulfilled and united people and a stronger america an america that will lead the <UNK> revolution and also open its mind and heart and soul to the <UNK> of <UNK> music and <UNK> and the values of faith courage and love a <UNK> economy with more citizens working and <UNK> taxes will be our strongest <UNK> to bring down budget <UNK> but an almost <UNK> 50 years of deficit spending has finally <UNK> us to a time of <UNK> we ve come to a turning <UNK> a moment for hard decisions i have asked the cabinet and my <UNK> a question and now i put the same question to all of you if not us who and if not now when it must be done by all of us going forward with a program aimed at reaching a <UNK> budget we can then begin <UNK> the national debt i will <UNK> <UNK> a budget to the congress aimed at <UNK> government program spending for the next year beyond this we must take further steps to <UNK> control government s power to tax and spend we must act now to protect future generations from government s <UNK> to spend its citizens money and tax them into servitude when the <UNK> come due let us make it <UNK> for the federal government to spend more than the federal government takes in we have already started <UNK> to the people and to state and local governments responsibilities better <UNK> by them now there is a place for the federal government in matters of social compassion but our <UNK> goals must be to reduce <UNK> and <UNK> the dignity of those who are infirm or <UNK> and here a growing economy and support from family and community offer our best chance for a society where compassion is a way of life where the old and infirm are cared for the young and yes the unborn protected and the unfortunate <UNK> after and made self sufficient now there is another <UNK> where the federal government can play a part as an older american i remember a time when people of different race creed or ethnic <UNK> in our land found hatred and prejudice <UNK> in social <UNK> and yes in law there s no story more <UNK> in our history than the progress that we ve made toward the <UNK> of man that god intended for us let us resolve there will be no turning back or <UNK> on the road to an america rich in dignity and <UNK> with opportunity for all our citizens let us resolve that we the people will build an american opportunity society in which all of us white and black rich and poor young and old will go forward together arm in arm again let us remember that though our heritage is one of blood lines from every corner of the earth we are all americans pledged to carry on this last best hope of man on earth i ve spoken of our domestic goals and the <UNK> we should put on our national government now let me turn to a task that is the primary responsibility of national government the safety and security of our people today we <UNK> no prayer more <UNK> than the ancient prayer for peace on earth yet history has shown that peace does not come nor will our freedom be preserved by good will alone there are those in the world who <UNK> our vision of human dignity and freedom one nation the soviet union has conducted the greatest military <UNK> in the history of man building arsenals of awesome <UNK> weapons we ve made progress in restoring our defense <UNK> but much remains to be done there must be no <UNK> by us nor any <UNK> by others that america will meet her responsibilities to remain free secure and at peace there is only one way safely and <UNK> to reduce the cost of national security and that is to reduce the need for it and this we re trying to do in <UNK> with the soviet union we re not just <UNK> limits on a further increase of nuclear weapons we seek instead to reduce their number we seek the total elimination one day of nuclear weapons from the face of the earth now for decades we and the soviets have <UNK> under the threat of mutual assured destruction if either <UNK> to the use of nuclear weapons the other could <UNK> and destroy the one who had started it is there either <UNK> or <UNK> in <UNK> that if one side threatens to kill tens of millions of our people our only <UNK> is to threaten <UNK> tens of millions of <UNK> i have <UNK> a research program to find if we can a security <UNK> that will destroy nuclear missiles before they reach their <UNK> it wouldn t kill people it would destroy weapons it wouldn t <UNK> space it would help <UNK> the arsenals of earth it would <UNK> nuclear weapons <UNK> we will meet with the soviets hoping that we can agree on a way to <UNK> the world of the threat of nuclear destruction we strive for peace and security <UNK> by the changes all around us since the turn of the century the number of democracies in the world has grown <UNK> human freedom is on the march and nowhere more so than in our own <UNK> freedom is one of the deepest and noblest <UNK> of the human spirit people <UNK> hunger for the right of self determination for those <UNK> rights that make for human dignity and progress america must remain freedom s <UNK> friend for freedom is our best <UNK> and it is the world s only hope to conquer poverty and preserve peace every blow we <UNK> against poverty will be a blow against its dark allies of oppression and war every victory for human freedom will be a victory for world peace so we go forward today a nation still mighty in its youth and powerful in its purpose with our alliances strengthened with our economy leading the world to a new age of economic expansion we look to a future rich in possibilities and all of this is because we worked and acted together not as members of political parties but as americans my friends we live in a world that s lit by <UNK> so much is changing and will change but so much endures and <UNK> time history is a <UNK> always <UNK> history is a journey and as we continue our journey we think of those who traveled before us we stand again at the steps of this symbol of our democracy well we would have been standing at the steps if it <UNK> t gotten so cold laughter now we re standing <UNK> this symbol of our democracy and we see and hear again the echoes of our past a <UNK> falls to his <UNK> in the hard snow of valley forge a <UNK> president <UNK> the <UNK> <UNK> and <UNK> his struggle to preserve the union the men of the <UNK> call out <UNK> to each other a <UNK> <UNK> west and <UNK> a song and the song echoes out forever and fills the <UNK> air it is the american sound it is hopeful big <UNK> idealistic <UNK> decent and fair that s our heritage that s our song we <UNK> it still for all our problems our differences we are together as of old we raise our voices to the god who is the author of this most <UNK> music and may he continue to hold us close as we fill the world with our sound in unity <UNK> and love one people under god <UNK> to the dream of freedom that he has placed in the human heart called upon now to pass that dream on to a <UNK> and hopeful world god bless you and god bless america\n",
      "\n",
      "Actual Summary:\n",
      "in another sense our new beginning is a continuation of that beginning created two centuries ago when for the first time in history government the people said was not our master it is our servant its only power that which we the people allow it to have\n",
      "\n",
      "Created Summary:\n",
      "in another sense sense new new beginning beginning of of of of of of two two\n",
      "\n",
      "\n",
      "\n",
      "\n",
      "\n",
      " ----------------------------------------------------------------------------------------------------\n",
      "Actual Text:\n",
      "mr chief justice mr president vice president <UNK> senator <UNK> speaker <UNK> senator dole <UNK> <UNK> and fellow citizens neighbors and friends there is a man here who has earned a lasting place in our hearts and in our history president <UNK> on behalf of our nation i thank you for the wonderful things that you have done for america i ve just <UNK> word for word the oath taken by george washington 200 years ago and the bible on which i placed my hand is the bible on which he placed his it is right that the memory of washington be with us today not only because this is our <UNK> inauguration but because washington remains the father of our country and he would i think be <UNK> by this day for today is the <UNK> expression of a <UNK> fact our continuity these 200 years since our government began we meet on democracy s front <UNK> a good place to talk as neighbors and as friends for this is a day when our nation is made whole when our differences for a moment are <UNK> and my first act as president is a prayer i ask you to bow your heads <UNK> father we bow our heads and thank you for your love accept our thanks for the peace that <UNK> this day and the shared faith that makes its <UNK> <UNK> make us strong to do your work willing to <UNK> and hear your will and <UNK> on our hearts these words use power to help people for we are given power not to advance our own purposes nor to make a great show in the world nor a name there is but one just use of power and it is to serve people help us remember lord amen i come before you and assume the presidency at a moment rich with promise we live in a peaceful prosperous time but we can make it better for a new breeze is blowing and a world refreshed by freedom seems reborn for in man s heart if not in fact the day of the <UNK> is over the totalitarian era is passing its old ideas <UNK> away like leaves from an ancient <UNK> <UNK> a new breeze is blowing and a nation refreshed by freedom stands ready to <UNK> on there is new ground to be broken and new action to be taken there are times when the future seems <UNK> as a <UNK> you <UNK> and wait hoping the <UNK> will lift and reveal the right path but this is a time when the future seems a door you can walk right through into a room called tomorrow great nations of the world are moving toward democracy through the door to freedom men and women of the world move toward free markets through the door to prosperity the people of the world <UNK> for free expression and free thought through the door to the moral and <UNK> <UNK> that only liberty <UNK> we know what works freedom works we know what s right freedom is right we know how to secure a more just and prosperous life for man on earth through free markets free <UNK> free <UNK> and the exercise of free will <UNK> by the state for the first time in this century for the first time in perhaps all history man does not have to <UNK> a system by which to live we don t have to talk <UNK> into the night about which form of government is better we don t have to <UNK> justice from the <UNK> we only have to summon it from within ourselves we must act on what we know i take as my guide the hope of a saint in crucial things unity in important things diversity in all things generosity america today is a proud free nation decent and civil a place we can not help but love we know in our hearts not <UNK> and proudly but as a simple fact that this country has meaning beyond what we see and that our strength is a force for good but have we changed as a nation even in our time are we <UNK> with <UNK> things less <UNK> of the nobility of work and sacrifice my friends we are not the sum of our possessions they are not the measure of our lives in our hearts we know what matters we can not hope only to leave our children a bigger <UNK> a bigger <UNK> account we must hope to give them a sense of what it means to be a loyal friend a loving parent a citizen who leaves his home his neighborhood and town better than he found it and what do we want the men and women who work with us to say when we re no longer there that we were more <UNK> to succeed than anyone around us or that we <UNK> to ask if a sick child had gotten better and <UNK> a moment there to trade a word of friendship no president no government can teach us to remember what is best in what we are but if the man you have chosen to lead this government can help make a difference if he can celebrate the <UNK> deeper <UNK> that are made not of <UNK> and <UNK> but of better hearts and <UNK> souls if he can do these things then he must america is never <UNK> <UNK> <UNK> she is engaged in high moral principle we as a people have such a purpose today it is to make <UNK> the face of the nation and <UNK> the face of the world my friends we have work to do there are the <UNK> lost and <UNK> there are the children who have nothing no love and no <UNK> there are those who can not free themselves of <UNK> to whatever <UNK> drugs welfare the <UNK> that rules the <UNK> there is crime to be <UNK> the <UNK> crime of the streets there are young women to be helped who are about to become mothers of children they can t care for and might not love they need our care our <UNK> and our education though we bless them for choosing life the old solution the old way was to think that public money alone could end these problems but we have learned that that is not so and in any <UNK> our <UNK> are <UNK> we have a deficit to bring down we have more will than <UNK> but will is what we need we will make the hard choices looking at what we have and perhaps <UNK> it <UNK> making our decisions based on honest need and prudent safety and then we will do the <UNK> thing of all we will turn to the only <UNK> we have that in times of need always grows the goodness and the courage of the american people and i am speaking of a new engagement in the lives of others a new <UNK> hands on and involved that <UNK> the job done we must bring in the generations <UNK> the <UNK> <UNK> of the elderly and the <UNK> energy of the young for not only leadership is passed from generation to generation but so is <UNK> and the generation born after the second world war has come of age i have spoken of a thousand points of light of all the community <UNK> that are spread like stars throughout the nation doing good we will work hand in hand encouraging sometimes leading sometimes being led <UNK> we will work on this in the white house in the cabinet <UNK> i will go to the people and the programs that are the brighter points of light and i ll ask every <UNK> of my government to become involved the old ideas are new again because they re not old they are timeless duty sacrifice commitment and a patriotism that <UNK> its expression in taking part and <UNK> in we need a new engagement too between the executive and the congress the challenges before us will be <UNK> out with the house and the <UNK> and we must bring the federal budget into balance and we must ensure that america stands before the world united strong at peace and <UNK> sound but of course things may be difficult we need to compromise we ve had <UNK> we need <UNK> we ve had a chorus of <UNK> voices for congress too has changed in our time there has grown a certain <UNK> we have seen the hard <UNK> and heard the <UNK> in which not each other s ideas are challenged but each other s <UNK> and our great parties have too often been far apart and <UNK> of each other it s been this way since vietnam that war <UNK> us still but friends that war began in <UNK> a <UNK> of a century ago and surely the <UNK> of limitation has been reached this is a fact the <UNK> lesson of vietnam is that no great nation can long afford to be <UNK> by a memory a new breeze is blowing and the old bipartisanship must be made new again to my friends and yes i do mean friends in the loyal <UNK> and yes i mean loyal i put out my hand i am putting out my hand to you mr speaker i am putting out my hand to you mr majority leader for this is the thing this is the age of the offered hand and we can t turn back <UNK> and i don t want to but when our fathers were young mr speaker our differences ended at the water s edge and we don t <UNK> to turn back time but when our mothers were young mr majority leader the congress and the executive were capable of working together to produce a budget on which this nation could live let us negotiate soon and hard but in the end let us produce the american people await action they <UNK> t <UNK> us here to <UNK> they ask us to rise above the merely <UNK> in crucial things unity and this my friends is crucial to the world too we offer new engagement and a renewed vow we will stay strong to protect the peace the offered hand is a <UNK> fist once made strong and can be used with great effect there are today americans who are held against their will in foreign lands and americans who are <UNK> for <UNK> can be shown here and will be long remembered good will <UNK> good will good faith can be a <UNK> that endlessly moves on great nations like great men must keep their word when america says something america means it whether a <UNK> or an <UNK> or a vow made on <UNK> steps we will always try to speak clearly for <UNK> is a <UNK> but <UNK> too is good and has its place while keeping our alliances and <UNK> around the world strong ever strong we will continue the new <UNK> with the soviet union consistent both with our security and with progress one might say that our new <UNK> in part <UNK> the triumph of hope and strength over <UNK> but hope is good and so is strength and <UNK> here today are tens of thousands of our citizens who feel the <UNK> <UNK> of those who have taken part in democracy and seen their hopes fulfilled but my <UNK> have been turning the past few days to those who would be watching at home to an older fellow who will <UNK> a salute by himself when the flag goes by and the woman who will tell her <UNK> the words of the battle <UNK> i don t mean this to be <UNK> i mean that on days like this we remember that we are all part of a <UNK> <UNK> <UNK> by the ties that bind our children are watching in schools throughout our great land and to them i say thank you for watching democracy s big day for democracy belongs to us all and freedom is like a beautiful <UNK> that can go higher and higher with the breeze and to all i say no matter what your circumstances or where you are you are part of this day you are part of the life of our great nation a president is neither <UNK> nor <UNK> and i don t seek a <UNK> on men s souls in fact i <UNK> for a greater tolerance and <UNK> about each other s <UNK> and way of life there are few clear areas in which we as a society must rise up united and express our <UNK> the most <UNK> now is drugs and when that first <UNK> was <UNK> in on a <UNK> it may as well have been a <UNK> <UNK> so much has it <UNK> the body the soul of our country and there is much to be done and to be said but take my word for it this scourge will stop and so there is much to do and tomorrow the work begins and i do not mistrust the future i do not fear what is ahead for our problems are large but our heart is larger our challenges are great but our will is greater and if our <UNK> are endless god s love is truly <UNK> some see leadership as high <UNK> and the sound of trumpets calling and sometimes it is that but i see history as a <UNK> with many <UNK> and each day we fill a page with acts of <UNK> and meaning the new breeze <UNK> a page <UNK> the story unfolds and so today a chapter begins a small and stately story of unity diversity and generosity shared and written together thank you god bless you and god bless the united states of america\n",
      "\n",
      "Actual Summary:\n",
      "a new breeze is blowing and the old bipartisanship must be made new again\n",
      "\n",
      "Created Summary:\n",
      "a new breeze breeze blowing blowing the the bipartisanship must must made made be\n",
      "\n",
      "\n",
      "\n",
      "\n",
      "\n",
      " ----------------------------------------------------------------------------------------------------\n",
      "Actual Text:\n",
      "my fellow citizens today we celebrate the <UNK> of american renewal this ceremony is held in the depth of winter but by the words we speak and the faces we show the world we force the spring a spring reborn in the world s <UNK> democracy that brings forth the vision and courage to <UNK> america when our founders <UNK> declared america s independence to the world and our purposes to the almighty they knew that america to endure would have to change not change for change s sake but change to preserve america s ideals life liberty the pursuit of happiness though we marched to the music of our time our mission is timeless each generation of americans must define what it means to be an american on behalf of our nation i salute my predecessor president bush for his half century of service to america and i thank the millions of men and women whose <UNK> and sacrifice <UNK> over depression fascism and communism today a generation raised in the <UNK> of the cold war <UNK> new responsibilities in a world <UNK> by the <UNK> of freedom but <UNK> still by ancient hatreds and new <UNK> raised in unrivaled prosperity we <UNK> an economy that is still the world s strongest but is weakened by business failures <UNK> wages <UNK> <UNK> and deep divisions among our own people when george washington first took the oath i have just sworn to uphold <UNK> traveled <UNK> across the land by horseback and across the ocean by <UNK> now the sights and <UNK> of this ceremony are <UNK> <UNK> to <UNK> around the world <UNK> and commerce are global investment is <UNK> technology is almost <UNK> and <UNK> for a better life is now <UNK> we earn our <UNK> in america today in peaceful competition with people all across the earth profound and powerful forces are <UNK> and remaking our world and the urgent question of our time is whether we can make change our friend and not our enemy this new world has already enriched the lives of millions of americans who are able to compete and win in it but when most people are working harder for less when others can not work at all when the cost of health care <UNK> families and threatens to <UNK> our <UNK> great and small when the fear of crime <UNK> law abiding citizens of their freedom and when millions of poor children can not even imagine the lives we are calling them to lead we have not made change our friend we know we have to face hard truths and take strong steps but we have not done so instead we have <UNK> and that <UNK> has <UNK> our resources fractured our economy and <UNK> our confidence though our challenges are <UNK> so are our <UNK> americans have ever been a <UNK> <UNK> hopeful people and we must bring to our task today the vision and will of those who came before us from our revolution to the civil war to the great depression to the civil rights movement our people have always <UNK> the determination to <UNK> from these crises the <UNK> of our history thomas jefferson believed that to preserve the very <UNK> of our nation we would need <UNK> change from time to time well my fellow americans this is our time let us embrace it our democracy must be not only the <UNK> of the world but the <UNK> of our own renewal there is nothing wrong with america that can not be cured by what is right with america and so today we pledge an end to the era of <UNK> and drift and a new season of american renewal has begun to renew america we must be bold we must do what no generation has had to do before we must <UNK> more in our own people in their jobs and in their future and at the same time cut our massive debt and we must do so in a world in which we must compete for every opportunity it will not be easy it will require sacrifice but it can be done and done <UNK> not choosing sacrifice for its own sake but for our own sake we must provide for our nation the way a family provides for its children our founders saw themselves in the light of posterity we can do no less anyone who has ever watched a child s eyes <UNK> into sleep knows what posterity is posterity is the world to come the world for whom we hold our ideals from whom we have <UNK> our planet and to whom we bear sacred responsibility we must do what america does best offer more opportunity to all and demand more responsibility from all it is time to break the bad <UNK> of <UNK> something for nothing from our government or from each other let us all take more responsibility not only for ourselves and our families but for our communities and our country to renew america we must <UNK> our democracy this beautiful capital like every capital since the dawn of <UNK> is often a place of <UNK> and <UNK> powerful people <UNK> for <UNK> and <UNK> endlessly about who is in and who is out who is up and who is down <UNK> those people whose <UNK> and <UNK> <UNK> us here and <UNK> our way americans deserve better and in this city today there are people who want to do better and so i say to all of you here let us resolve to reform our politics so that power and <UNK> no longer <UNK> down the voice of the people let us put aside personal <UNK> so that we can feel the pain and see the promise of america let us resolve to make our government a place for what <UNK> <UNK> called bold persistent <UNK> a government for our <UNK> not our <UNK> let us give this capital back to the people to whom it belongs to renew america we must meet challenges abroad as well as at home there is no longer a clear division between what is foreign and what is domestic the world economy the world environment the world aids crisis the world arms race they affect us all today as an older order <UNK> the new world is more free but less <UNK> communism s <UNK> has called forth old <UNK> and new dangers clearly america must continue to lead the world we did so much to make while america <UNK> at home we will not <UNK> from the challenges nor fail to seize the opportunities of this new world together with our friends and allies we will work to shape change lest it <UNK> us when our vital interests are challenged or the will and conscience of the international community is <UNK> we will act with peaceful diplomacy whenever <UNK> with force when necessary the brave americans serving our nation today in the <UNK> <UNK> in <UNK> and wherever else they stand are <UNK> to our resolve but our greatest strength is the power of our ideas which are still new in many lands across the world we see them <UNK> and we <UNK> our hopes our hearts our hands are with those on every continent who are building democracy and freedom their cause is america s cause the american people have <UNK> the change we celebrate today you have raised your voices in an <UNK> chorus you have cast your votes in historic numbers and you have changed the face of congress the presidency and the political process itself yes you my fellow americans have forced the spring now we must do the work the season demands to that work i now turn with all the authority of my office i ask the congress to join with me but no president no congress no government can undertake this mission alone my fellow americans you too must play your part in our renewal i challenge a new generation of young americans to a season of service to act on your idealism by helping troubled children keeping <UNK> with those in need <UNK> our torn communities there is so much to be done enough <UNK> for millions of others who are still young in spirit to give of themselves in service too in serving we recognize a simple but powerful <UNK> we need each other and we must care for one another today we do more than celebrate america we <UNK> ourselves to the very idea of america an idea born in revolution and renewed through two centuries of challenge an idea tempered by the knowledge that but for fate we the <UNK> and the unfortunate might have been each other an idea ennobled by the faith that our nation can summon from its <UNK> diversity the deepest measure of unity an idea infused with the conviction that america s long heroic journey must go forever <UNK> and so my fellow americans as we stand at the edge of the 21st century let us begin anew with energy and hope with faith and <UNK> and let us work until our work is done the scripture says and let us not be weary in well doing for in due season we shall <UNK> if we <UNK> not from this <UNK> <UNK> of celebration we hear a call to service in the valley we have heard the trumpets we have changed the <UNK> and now each in our own way and with god s help we must answer the call thank you and god bless you all\n",
      "\n",
      "Actual Summary:\n",
      "the world economy the world environment the world aids crisis the world arms race they affect us all\n",
      "\n",
      "Created Summary:\n",
      "the the economy world world world world world world world world world world world world the the\n",
      "\n",
      "\n",
      "\n",
      "\n",
      "\n",
      " ----------------------------------------------------------------------------------------------------\n",
      "Actual Text:\n",
      "my fellow citizens at this last presidential inauguration of the 20th century let us lift our eyes toward the challenges that await us in the next century it is our great good <UNK> that time and chance have put us not only at the edge of a new century in a new millennium but on the edge of a bright new prospect in human affairs a moment that will define our course and our character for decades to comes we must keep our old democracy forever young guided by the ancient vision of a <UNK> land let us set our sights upon a land of new promise the promise of america was born in the <UNK> century out of the bold conviction that we are all created equal it was <UNK> and preserved in the 19th century when our nation spread across the continent saved the union and <UNK> the awful scourge of slavery then in <UNK> and triumph that promise <UNK> <UNK> the world <UNK> to make this the american century and what a century it has been america became the world s <UNK> industrial power saved the world from tyranny in two world wars and a long cold war and time and again reached out across the globe to millions who like us <UNK> for the <UNK> of liberty along the way americans <UNK> a great middle class and security in old age built unrivaled <UNK> of <UNK> and opened public schools to all <UNK> the <UNK> and <UNK> the <UNK> <UNK> the <UNK> and the <UNK> and <UNK> the <UNK> of justice by making a revolution in civil rights for <UNK> americans and all minorities and <UNK> the <UNK> of citizenship opportunity and dignity to women now for the <UNK> time a new century is upon us and another time to choose we began the 19th century with a choice to spread our nation from coast to coast we began the 20th century with a choice to harness the industrial revolution to our values of free enterprise <UNK> and human decency those choices made all the difference at the dawn of the 21st century a free people must now choose to shape the forces of the information age and the global society to unleash the limitless potential of all our people and yes to form a more perfect union when last we gathered our march to this new future seemed less certain than it does today we vowed then to set a clear course to renew our nation in these 4 years we have been <UNK> by <UNK> <UNK> by challenge strengthened by achievement america stands alone as the world s <UNK> nation once again our economy is the strongest on earth once again we are building stronger families <UNK> communities better <UNK> opportunities a <UNK> environment problems that once seemed <UNK> to <UNK> now <UNK> to our efforts our streets are <UNK> and <UNK> numbers of our fellow citizens have moved from welfare to work and once again we have resolved for our time a great debate over the role of government today we can declare government is not the problem and government is not the solution we the american people we are the solution our founders understood that well and gave us a democracy strong enough to endure for centuries <UNK> enough to face our common challenges and advance our common dreams in each new day as times change so government must change we need a new government for a new century humble enough not to try to solve all our problems for us but strong enough to give us the <UNK> to solve our problems for ourselves a government that is smaller lives within its means and does more with less yet where it can stand up for our values and interests around the world and where it can give americans the power to make a real difference in their <UNK> lives government should do more not less the <UNK> mission of our new government is to give all americans an opportunity not a guarantee but a real opportunity to build better lives beyond that my fellow citizens the future is up to us our founders taught us that the <UNK> of our liberty and our union depends upon responsible citizenship and we need a new sense of responsibility for a new century there is work to do work that government alone can not do <UNK> children to read <UNK> people off welfare <UNK> <UNK> out from behind <UNK> doors and shuttered <UNK> to help reclaim our streets from drugs and gangs and crime taking time out of our own lives to serve others each and every one of us in our own way must assume personal responsibility not only for ourselves and our families but for our neighbors and our nation our greatest responsibility is to embrace a new spirit of community for a new century for any one of us to succeed we must succeed as one america the challenge of our past remains the challenge of our future will we be one nation one people with one common destiny or not will we all come together or come apart the <UNK> of race has been america s constant <UNK> and each new wave of immigrants <UNK> new <UNK> to old <UNK> prejudice and <UNK> <UNK> in the <UNK> of religious or political conviction are no different these forces have nearly <UNK> our nation in the past they <UNK> us still they fuel the <UNK> of terror and they <UNK> the lives of millions in fractured nations all around the world these <UNK> <UNK> both those who <UNK> and of course those who are <UNK> <UNK> both of what they might become we can not we will not <UNK> to the dark <UNK> that <UNK> in the far regions of the soul everywhere we shall <UNK> them and we shall replace them with the generous spirit of a people who feel at home with one another our rich <UNK> of racial religious and political diversity will be a <UNK> in the 21st century great rewards will come to those who can live together learn together work together forge new ties that bind together as this new era <UNK> we can already see its broad <UNK> <UNK> years ago the <UNK> was the <UNK> <UNK> of <UNK> today it is a commonplace <UNK> for millions of <UNK> <UNK> now are <UNK> the <UNK> of human life <UNK> for our most <UNK> <UNK> seem close at hand the world is no longer <UNK> into two <UNK> <UNK> instead now we are building bonds with nations that once were our adversaries growing <UNK> of commerce and culture give us a chance to lift the fortunes and <UNK> of people the world over and for the very first time in all of history more people on this planet live under democracy than <UNK> my fellow americans as we look back at this remarkable century we may ask can we hope not just to follow but even to <UNK> the achievements of the 20th century in america and to avoid the awful <UNK> that stained its legacy to that question every american here and every american in our land today must answer a <UNK> yes this is the heart of our task with a new vision of government a new sense of responsibility a new spirit of community we will sustain america s journey the promise we <UNK> in a new land we will find again in a land of new promise in this new land education will be every citizen s most <UNK> <UNK> our schools will have the highest standards in the world <UNK> the <UNK> of possibility in the eyes of every girl and every <UNK> and the doors of higher education will be open to all the knowledge and power of the information age will be within reach not just of the few but of every <UNK> every <UNK> every child parents and children will have time not only to work but to read and play together and the plans they make at their <UNK> <UNK> will be those of a better home a better job the certain chance to go to <UNK> our streets will <UNK> again with the laughter of our children because no one will try to <UNK> them or <UNK> them drugs <UNK> everyone who can work will work with today s permanent under class part of tomorrow s growing middle class new <UNK> of <UNK> at last will reach not only those who can claim care now but the children and hard working families too long denied we will stand mighty for peace and freedom and maintain a strong defense against terror and destruction our children will sleep free from the threat of nuclear <UNK> or <UNK> weapons <UNK> and airports farms and factories will thrive with trade and <UNK> and ideas and the world s greatest democracy will lead a whole world of democracies our land of new promise will be a nation that <UNK> its obligations a nation that <UNK> its budget but never <UNK> the balance of its values a nation where our <UNK> have secure retirement and health care and their <UNK> know we have made the reforms necessary to sustain those <UNK> for their time a nation that <UNK> the world s most productive economy even as it <UNK> the great <UNK> bounty of our water air and <UNK> land and in this land of new promise we will have <UNK> our politics so that the voice of the people will always speak <UNK> than the <UNK> of narrow interests <UNK> the participation and deserving the trust of all americans fellow citizens let us build that america a nation ever moving forward toward <UNK> the full potential of all its citizens prosperity and power yes they are important and we must maintain them but let us never forget the greatest progress we have made and the greatest progress we have yet to make is in the human heart in the end all the world s wealth and a thousand armies are no match for the strength and decency of the human spirit <UNK> four years ago the man whose life we celebrate today spoke to us down there at the other end of this mall in words that moved the conscience of a nation like a prophet of old he told of his dream that one day america would rise up and treat all its citizens as <UNK> before the law and in the heart martin <UNK> king s dream was the american dream his quest is our quest the <UNK> striving to live out our true creed our history has been built on such dreams and labors and by our dreams and labors we will <UNK> the promise of america in the 21st century to that effort i pledge all my strength and every power of my office i ask the members of congress here to join in that pledge the american people returned to office a president of one party and a congress of another surely they did not do this to advance the politics of petty <UNK> and <UNK> <UNK> they <UNK> <UNK> no they call on us instead to be <UNK> of the <UNK> and to move on with america s mission america demands and deserves big things from us and nothing big ever came from being small let us remember the timeless wisdom of <UNK> <UNK> when facing the end of his own life he said it is wrong to waste the precious gift of time on <UNK> and division fellow citizens we must not waste the precious gift of this time for all of us are on that same journey of our lives and our journey too will come to an end but the journey of our america must go on and so my fellow americans we must be strong for there is much to <UNK> the demands of our time are great and they are different let us meet them with faith and courage with patience and a grateful <UNK> heart let us shape the hope of this day into the noblest chapter in our history yes let us build our bridge a bridge <UNK> enough and strong enough for every american to cross over to a blessed land of new promise may those generations whose faces we can not yet see whose names we may never know say of us here that we led our <UNK> land into a new century with the american dream alive for all her children with the american promise of a more perfect union a reality for all her people with america s bright <UNK> of freedom <UNK> throughout all the world from the <UNK> of this place and the <UNK> of this century let us go forth may god strengthen our hands for the good work ahead and always always bless our america\n",
      "\n",
      "Actual Summary:\n",
      "with a new vision of government a new sense of responsibility a new spirit of community we will sustain america s journey\n",
      "\n",
      "Created Summary:\n",
      "with a new vision vision of new new new new new new new new new new of of\n",
      "\n",
      "\n",
      "\n",
      "\n",
      "\n",
      " ----------------------------------------------------------------------------------------------------\n",
      "Actual Text:\n",
      "thank you all chief justice <UNK> president carter president bush president clinton distinguished guests and my fellow citizens the peaceful transfer of authority is <UNK> in history yet common in our country with a simple oath we affirm old traditions and make new <UNK> as i begin i thank president clinton for his service to our nation and i thank vice president <UNK> for a <UNK> conducted with spirit and ended with grace i am honored and humbled to stand here where so many of america s leaders have come before me and so many will follow we have a place all of us in a long story a story we continue but whose end we will not see it is a story of a new world that became a friend and <UNK> of the old the story of a <UNK> society that became a servant of freedom the story of a power that <UNK> into the world to protect but not possess to defend but not to conquer it is the american story a story of <UNK> and <UNK> people united across the generations by grand and enduring ideals the grandest of these ideals is an <UNK> american promise that everyone belongs that everyone deserves a chance that no <UNK> person was ever born americans are called to <UNK> this promise in our lives and in our laws and though our nation has sometimes <UNK> and sometimes <UNK> we must follow no other course through much of the last century america s faith in freedom and democracy was a <UNK> in a raging <UNK> now it is a <UNK> upon the <UNK> taking <UNK> in many nations our democratic faith is more than the creed of our country it is the <UNK> hope of our humanity an ideal we carry but do not own a trust we bear and pass along even after nearly <UNK> years we have a long way yet to travel while many of our citizens prosper others doubt the promise even the justice of our own country the ambitions of some americans are limited by <UNK> schools and <UNK> prejudice and the circumstances of their birth and sometimes our differences run so deep it seems we share a continent but not a country we do not accept this and we will not allow it our unity our union is a serious work of leaders and citizens and every generation and this is my solemn pledge i will work to build a single nation of justice and opportunity i know this is in our reach because we are guided by a power larger than ourselves who <UNK> us equal in his image and we are confident in principles that unite and lead us <UNK> america has never been united by blood or birth or soil we are bound by ideals that move us beyond our <UNK> lift us above our interests and teach us what it means to be citizens every child must be taught these principles every citizen must uphold them and every immigrant by <UNK> these ideals makes our country more not less american today we affirm a new commitment to live out our nation s promise through civility courage compassion and character america at its best <UNK> a commitment to principle with a concern for civility a civil society demands from each of us good will and respect fair <UNK> and <UNK> some seem to believe that our politics can afford to be petty because in a time of peace the stakes of our debates <UNK> small but the stakes for america are never small if our country does not lead the cause of freedom it will not be led if we do not turn the hearts of children toward knowledge and character we will lose their gifts and <UNK> their idealism if we <UNK> our economy to drift and decline the vulnerable will suffer most we must live up to the calling we share civility is not a <UNK> or a <UNK> it is the determined choice of trust over <UNK> of community over <UNK> and this commitment if we keep it is a way to shared <UNK> america at its best is also <UNK> our national courage has been clear in times of depression and war when <UNK> common dangers defined our common good now we must choose if the example of our fathers and mothers will <UNK> us or <UNK> us we must show courage in a time of <UNK> by confronting problems instead of passing them on to future generations together we will reclaim america s schools before ignorance and <UNK> claim more young lives we will reform social security and medicare <UNK> our children from <UNK> we have the power to <UNK> and we will reduce taxes to <UNK> the <UNK> of our economy and reward the effort and enterprise of working americans we will build our defenses beyond challenge lest weakness <UNK> challenge we will confront weapons of <UNK> destruction so that a new century is <UNK> new <UNK> the enemies of liberty and our country should make no mistake america remains engaged in the world by history and by choice <UNK> a balance of power that favors freedom we will defend our allies and our interests we will show purpose without <UNK> we will meet <UNK> and bad faith with resolve and strength and to all nations we will speak for the values that gave our nation birth america at its best is compassionate in the quiet of american conscience we know that deep persistent poverty is <UNK> of our nation s promise and whatever our <UNK> of its cause we can agree that children at risk are not at <UNK> <UNK> and abuse are not acts of god they are failures of love and the <UNK> of <UNK> however necessary is no substitute for hope and order in our souls where there is suffering there is duty americans in need are not <UNK> they are citizens not problems but priorities and all of us are <UNK> when any are <UNK> government has great responsibilities for public safety and public health for civil rights and common schools yet compassion is the work of a nation not just a government and some needs and <UNK> are so deep they will only respond to a <UNK> s <UNK> or a <UNK> s prayer church and charity <UNK> and <UNK> lend our communities their humanity and they will have an honored place in our plans and in our laws many in our country do not know the pain of poverty but we can <UNK> to those who do and i can pledge our nation to a goal when we see that <UNK> <UNK> on the road to <UNK> we will not pass to the other side america at its best is a place where personal responsibility is <UNK> and <UNK> encouraging responsibility is not a search for <UNK> it is a call to conscience and though it requires sacrifice it brings a deeper <UNK> we find the fullness of life not only in <UNK> but in commitments and we find that children and community are the commitments that set us free our public interest depends on private character on <UNK> duty and family bonds and basic <UNK> on <UNK> <UNK> acts of decency which give direction to our freedom sometimes in life we re called to do great things but as a saint of our times has said every day we are called to do small things with great love the most important <UNK> of a democracy are done by everyone i will live and lead by these principles to advance my convictions with civility to serve the public interest with courage to speak for greater justice and compassion to call for responsibility and try to live it as well in all these ways i will bring the values of our history to the care of our times what you do is as important as anything government does i ask you to seek a common good beyond your <UNK> to defend needed reforms against easy attacks to serve your nation beginning with your neighbor i ask you to be citizens citizens not <UNK> citizens not <UNK> responsible citizens building communities of service and a nation of character americans are generous and strong and decent not because we believe in ourselves but because we hold beliefs beyond ourselves when this spirit of citizenship is <UNK> no government program can replace it when this spirit is present no wrong can stand against it after the declaration of independence was <UNK> virginia <UNK> john page wrote to thomas jefferson we know the race is not to the swift nor the battle to the strong do you not think an angel rides in the whirlwind and directs this storm much time has passed since jefferson <UNK> for his inauguration the years and changes <UNK> but the <UNK> of this day he would know our nation s grand story of courage and its simple dream of dignity we are not this story s author who fills time and <UNK> with his purpose yet his purpose is achieved in our duty and our duty is fulfilled in service to one another never <UNK> never <UNK> never <UNK> we renew that purpose today to make our country more just and generous to affirm the dignity of our lives and every life this work <UNK> the story goes on and an angel still rides in the whirlwind and directs this storm god bless you all and god bless america\n",
      "\n",
      "Actual Summary:\n",
      "to all nations we will speak for the values that gave our nation birth\n",
      "\n",
      "Created Summary:\n",
      "to all nations nations the speak the the the that that that our our\n",
      "\n",
      "\n",
      "\n",
      "\n",
      "\n",
      " ----------------------------------------------------------------------------------------------------\n",
      "Actual Text:\n",
      "vice president <UNK> mr chief justice president carter president bush president clinton members of the united states congress reverend clergy distinguished guests fellow citizens on this day <UNK> by law and <UNK> by ceremony we celebrate the <UNK> wisdom of our constitution and recall the deep commitments that unite our country i am grateful for the honor of this hour mindful of the <UNK> times in which we live and determined to fulfill the oath that i have sworn and you have witnessed at this second gathering our duties are defined not by the words i use but by the history we have seen together for a half a century america defended our own freedom by standing watch on distant borders after the <UNK> of communism came years of relative quiet years of <UNK> years of <UNK> and then there came a day of fire we have seen our <UNK> and we have seen its deepest source for as long as whole regions of the world <UNK> in resentment and tyranny <UNK> to <UNK> that feed hatred and excuse <UNK> violence will gather and <UNK> in <UNK> power and cross the most defended borders and raise a <UNK> threat there is only one force of history that can break the <UNK> of hatred and resentment and <UNK> the <UNK> of <UNK> and reward the hopes of the decent and <UNK> and that is the force of human freedom we are led by events and common sense to one <UNK> the <UNK> of liberty in our land <UNK> depends on the success of liberty in other lands the best hope for peace in our world is the expansion of freedom in all the world america s vital interests and our deepest beliefs are now one from the day of our founding we have proclaimed that every man and woman on this earth has rights and dignity and <UNK> value because they bear the image of the <UNK> of <UNK> and earth across the generations we have proclaimed the <UNK> of self government because no one is <UNK> to be a master and no one deserves to be a slave advancing these ideals is the mission that created our nation it is the <UNK> achievement of our fathers now it is the urgent <UNK> of our nation s security and the calling of our time so it is the <UNK> of the united states to seek and support the growth of democratic <UNK> and institutions in every nation and culture with the ultimate goal of ending tyranny in our world this is not <UNK> the task of arms though we will defend ourselves and our friends by force of arms when necessary freedom by its <UNK> must be chosen and defended by citizens and sustained by the rule of law and the protection of minorities and when the soul of a nation finally speaks the institutions that <UNK> may reflect <UNK> and traditions very different from our own america will not impose our own <UNK> of government on the unwilling our goal instead is to help others find their own voice <UNK> their own freedom and make their own way the great objective of ending tyranny is the <UNK> work of generations the <UNK> of the task is no excuse for <UNK> it america s influence is not <UNK> but <UNK> for the <UNK> america s influence is <UNK> and we will use it <UNK> in freedom s cause my most solemn duty is to protect this nation and its people from further attacks and <UNK> threats some have <UNK> chosen to <UNK> america s resolve and have found it firm we will <UNK> <UNK> the choice before every <UNK> and every nation the moral choice between oppression which is always wrong and freedom which is <UNK> right america will not <UNK> that <UNK> <UNK> prefer their <UNK> or that women welcome <UNK> and servitude or that any human being <UNK> to live at the mercy of <UNK> we will <UNK> reform in other governments by making clear that success in our relations will require the decent treatment of their own people america s belief in human dignity will guide our policies yet rights must be more than the <UNK> <UNK> of <UNK> they are secured by free dissent and the participation of the governed in the long run there is no justice without freedom and there can be no human rights without human liberty some i know have <UNK> the global appeal of liberty though this time in history four decades defined by the <UNK> advance of freedom ever seen is an <UNK> time for doubt americans of all people should never be <UNK> by the power of our ideals <UNK> the call of freedom comes to every mind and every soul we do not accept the <UNK> of permanent tyranny because we do not accept the possibility of permanent slavery liberty will come to those who love it today america speaks anew to the peoples of the world all who live in tyranny and <UNK> can know the united states will not <UNK> your oppression or excuse your <UNK> when you stand for your liberty we will stand with you democratic <UNK> facing <UNK> <UNK> or <UNK> can know america sees you for who you are the future leaders of your free country the rulers of <UNK> <UNK> can know that we still believe as abraham lincoln did those who deny freedom to others deserve it not for themselves and under the rule of a just god can not long <UNK> it the leaders of governments with long habits of control need to know to serve your people you must learn to trust them start on this journey of progress and justice and america will walk at your side and all the allies of the united states can know we honor your friendship we <UNK> on your <UNK> and we depend on your help division among free nations is a primary goal of freedom s enemies the <UNK> effort of free nations to <UNK> democracy is a <UNK> to our enemies defeat today i also speak anew to my fellow citizens from all of you i have asked patience in the hard task of <UNK> america which you have granted in good measure our country has accepted obligations that are difficult to fulfill and would be <UNK> to abandon yet because we have acted in the great <UNK> tradition of this nation tens of millions have achieved their freedom and as hope <UNK> hope millions more will find it by our efforts we have lit a fire as well a fire in the minds of men it <UNK> those who feel its power it <UNK> those who fight its progress and one day this untamed fire of freedom will reach the darkest <UNK> of our world a few americans have accepted the <UNK> duties in this cause in the quiet work of <UNK> and diplomacy the idealistic work of helping raise up free governments the <UNK> and necessary work of <UNK> our enemies some have shown their <UNK> to our country in <UNK> that honored their whole lives and we will always honor their names and their sacrifice all americans have witnessed this idealism and some for the first time i ask our <UNK> citizens to believe the evidence of your eyes you have seen duty and allegiance in the determined faces of our soldiers you have seen that life is <UNK> and <UNK> is real and courage triumphs make the choice to serve in a cause larger than your <UNK> larger than <UNK> and in your days you will add not just to the wealth of our country but to its character america has need of idealism and courage because we have essential work at home the <UNK> work of american freedom in a world moving toward liberty we are determined to show the meaning and promise of liberty in america s ideal of freedom citizens find the dignity and security of economic independence instead of laboring on the edge of <UNK> this is the <UNK> definition of liberty that <UNK> the <UNK> act the social security act and the <UNK> <UNK> of rights and now we will extend this vision by <UNK> great institutions to serve the needs of our time to give every american a stake in the promise and future of our country we will bring the highest standards to our schools and build an ownership society we will <UNK> the ownership of homes and businesses retirement savings and health <UNK> <UNK> our people for the challenges of life in a free society by making every citizen an <UNK> of his or her own destiny we will give our fellow americans greater freedom from want and fear and make our society more prosperous and just and equal in america s ideal of freedom the public interest depends on private character on <UNK> and tolerance toward others and the rule of conscience in our own lives self government relies in the end on the governing of the self that <UNK> of character is built in families supported by communities with standards and sustained in our national life by the truths of <UNK> the <UNK> on the <UNK> the words of the <UNK> and the <UNK> <UNK> of our people americans move forward in every generation by reaffirming all that is good and true that came before ideals of justice and <UNK> that are the same <UNK> today and forever in america s ideal of freedom the exercise of rights is ennobled by service and mercy and a heart for the weak liberty for all does not mean independence from one another our nation relies on men and women who look after a neighbor and <UNK> the lost with love americans at our best value the life we see in one another and must always remember that even the <UNK> have <UNK> and our country must abandon all the habits of <UNK> because we can not carry the message of freedom and the <UNK> of bigotry at the same time from the <UNK> of a single day <UNK> this day of dedication the <UNK> and questions before our country are many from the viewpoint of centuries the questions that come to us are narrowed and few did our generation advance the cause of freedom and did our character bring credit to that cause these questions that judge us also unite us because americans of every party and background americans by choice and by birth are bound to one another in the cause of freedom we have <UNK> divisions which must be <UNK> to move forward in great purposes and i will strive in good faith to heal them yet those divisions do not define america we <UNK> the unity and <UNK> of our nation when freedom came under <UNK> and our <UNK> came like a single hand over a single heart and we can feel that same unity and pride whenever america acts for good and the victims of disaster are given hope and the <UNK> <UNK> justice and the <UNK> are set free we go forward with complete confidence in the <UNK> triumph of freedom not because history <UNK> on the <UNK> of <UNK> it is human choices that move events not because we consider ourselves a chosen nation god moves and <UNK> as he <UNK> we have confidence because freedom is the permanent hope of mankind the hunger in dark places the <UNK> of the soul when our founders declared a new order of the ages when soldiers died in wave upon wave for a union based on liberty when citizens marched in peaceful <UNK> under the <UNK> freedom now they were acting on an ancient hope that is meant to be fulfilled history has an <UNK> and flow of justice but history also has a <UNK> direction set by liberty and the author of liberty when the declaration of independence was first read in public and the liberty <UNK> was <UNK> in celebration a witness said it <UNK> as if it meant something in our time it means something still america in this young century <UNK> liberty throughout all the world and to all the <UNK> <UNK> renewed in our strength tested but not weary we are ready for the greatest achievements in the history of freedom may god bless you and may he watch over the united states of america\n",
      "\n",
      "Actual Summary:\n",
      "from the viewpoint of centuries the questions that come to us are narrowed and few did our generation advance the cause of freedom and did our character bring credit to that cause these questions that judge us also unite us because americans of every party and background americans by choice and by birth are bound to one another in the cause of freedom\n",
      "\n",
      "Created Summary:\n",
      "from the viewpoint the the the the the that to to to to to to\n",
      "\n",
      "\n",
      "\n",
      "\n",
      "\n",
      " ----------------------------------------------------------------------------------------------------\n",
      "Actual Text:\n",
      "my fellow citizens i stand here today humbled by the task before us grateful for the trust you have bestowed mindful of the <UNK> borne by our <UNK> i thank president bush for his service to our nation as well as the generosity and cooperation he has shown throughout this transition <UNK> four americans have now taken the presidential oath the words have been spoken during rising <UNK> of prosperity and the still waters of peace yet every so often the oath is taken <UNK> gathering <UNK> and raging storms at these <UNK> america has carried on not simply because of the skill or vision of those in high office but because we the people have <UNK> <UNK> to the ideals of our forebears and true to our founding documents so it has been so it must be with this generation of americans that we are in the <UNK> of crisis is now well understood our nation is at war against a far reaching <UNK> of violence and hatred our economy is <UNK> weakened a <UNK> of <UNK> and <UNK> on the part of some but also our collective failure to make hard choices and <UNK> the nation for a new age homes have been lost jobs <UNK> businesses shuttered our health care is too <UNK> our schools fail too many and each day brings further evidence that the ways we use energy strengthen our adversaries and threaten our planet these are the <UNK> of crisis <UNK> to <UNK> and <UNK> less <UNK> but no less profound is a <UNK> of confidence across our land a <UNK> fear that america s decline is inevitable that the next generation must lower its sights today i say to you that the challenges we face are real they are serious and they are many they will not be met <UNK> or in a short <UNK> of time but know this america they will be met on this day we gather because we have chosen hope over fear unity of purpose over conflict and <UNK> on this day we come to proclaim an end to the petty <UNK> and false <UNK> the <UNK> and <UNK> out <UNK> that for far too long have <UNK> our politics we remain a young nation but in the words of scripture the time has come to set aside <UNK> things the time has come to <UNK> our enduring spirit to choose our better history to carry forward that precious gift that <UNK> idea passed on from generation to generation the god given promise that all are equal all are free and all deserve a chance to pursue their full measure of happiness in reaffirming the greatness of our nation we understand that greatness is never a given it must be earned our journey has never been one of <UNK> or <UNK> for less it has not been the path for the <UNK> for those who prefer <UNK> over work or seek only the <UNK> of <UNK> and <UNK> rather it has been the risk takers the <UNK> the <UNK> of things some celebrated but more often men and women <UNK> in their labor who have carried us up the long <UNK> path toward prosperity and freedom for us they <UNK> up their few <UNK> possessions and traveled across <UNK> in search of a new life for us they <UNK> in <UNK> and <UNK> the west <UNK> the lash of the <UNK> and <UNK> the hard earth for us they <UNK> and died in places like <UNK> and <UNK> <UNK> and <UNK> <UNK> time and again these men and women <UNK> and <UNK> and worked <UNK> their hands were raw so that we might live a better life they saw america as bigger than the sum of our individual ambitions greater than all the differences of birth or wealth or faction this is the journey we continue today we remain the most prosperous powerful nation on earth our workers are no less productive than when this crisis began our minds are no less <UNK> our <UNK> and <UNK> no less needed than they were last <UNK> or last <UNK> or last year our capacity remains undiminished but our time of standing <UNK> of <UNK> narrow interests and putting off <UNK> decisions that time has surely passed starting today we must <UNK> ourselves up <UNK> ourselves off and begin again the work of remaking america for everywhere we look there is work to be done the state of the economy calls for action bold and swift and we will act not only to create new jobs but to <UNK> a new <UNK> for growth we will build the roads and bridges the <UNK> <UNK> and <UNK> lines that feed our commerce and bind us together we will restore science to its <UNK> place and <UNK> technology s <UNK> to raise health care s quality and lower its cost we will harness the sun and the <UNK> and the soil to fuel our <UNK> and run our factories and we will <UNK> our schools and colleges and <UNK> to meet the demands of a new age all this we can do all this we will do now there are some who question the <UNK> of our ambitions who <UNK> that our system can not <UNK> too many big plans their <UNK> are short for they have forgotten what this country has already done what free men and women can achieve when <UNK> is joined to common purpose and <UNK> to courage what the <UNK> fail to understand is that the ground has <UNK> <UNK> them that the <UNK> political <UNK> that have <UNK> us for so long no longer <UNK> the question we ask today is not whether our government is too big or too small but whether it works whether it <UNK> families find jobs at a decent <UNK> care they can afford a retirement that is dignified where the answer is yes we <UNK> to move forward where the answer is no programs will end and those of us who manage the public s dollars will be held to account to spend <UNK> reform bad habits and do our business in the light of day because only then can we restore the vital trust between a people and their government nor is the question before us whether the market is a force for good or <UNK> its power to <UNK> wealth and <UNK> freedom is unmatched but this crisis has reminded us that without a <UNK> <UNK> the market can <UNK> out of control the nation can not prosper long when it favors only the prosperous the success of our economy has always depended not just on the size of our <UNK> domestic <UNK> but on the reach of our prosperity on our <UNK> to extend opportunity to every willing heart not out of charity but because it is the surest <UNK> to our common good as for our common defense we reject as false the choice between our safety and our ideals our founding fathers faced with <UNK> that we can <UNK> imagine <UNK> a charter to assure the rule of law and the rights of man a charter <UNK> by the blood of generations those ideals still light the world and we will not give them up for <UNK> s sake and so to all the other peoples and governments who are watching today from the grandest capitals to the small village where my father was born know that america is a friend of each nation and every man woman and child who seeks a future of peace and dignity and we are ready to lead once more recall that earlier generations faced down fascism and communism not just with missiles and <UNK> but with <UNK> alliances and enduring convictions they understood that our power alone can not protect us nor does it <UNK> us to do as we <UNK> instead they knew that our power grows through its prudent use our security <UNK> from the <UNK> of our cause the force of our example the <UNK> qualities of humility and <UNK> we are the <UNK> of this legacy guided by these principles once more we can meet those new threats that demand even greater effort even greater cooperation and understanding between nations we will begin to responsibly leave <UNK> to its people and forge a hard earned peace in <UNK> with old friends and <UNK> <UNK> we will work <UNK> to <UNK> the nuclear threat and <UNK> back the <UNK> of a <UNK> planet we will not <UNK> for our way of life nor will we <UNK> in its defense and for those who seek to advance their <UNK> by <UNK> terror and <UNK> <UNK> we say to you now that our spirit is stronger and can not be broken you can not <UNK> us and we will defeat you for we know that our <UNK> heritage is a strength not a weakness we are a nation of <UNK> and <UNK> <UNK> and <UNK> and <UNK> we are <UNK> by every <UNK> and culture drawn from every end of this earth and because we have <UNK> the bitter <UNK> of civil war and <UNK> and <UNK> from that dark chapter stronger and more united we can not help but believe that the old hatreds shall <UNK> pass that the lines of <UNK> shall soon <UNK> that as the world grows smaller our common humanity shall reveal itself and that america must play its role in <UNK> in a new era of peace to the <UNK> world we seek a new way forward based on mutual interest and mutual respect to those leaders around the globe who seek to <UNK> conflict or <UNK> their society s ills on the west know that your people will judge you on what you can build not what you destroy to those who <UNK> to power through <UNK> and <UNK> and the <UNK> of dissent know that you are on the wrong side of history but that we will extend a hand if you are willing to <UNK> your fist to the people of poor nations we pledge to work <UNK> you to make your farms <UNK> and let <UNK> waters flow to <UNK> <UNK> <UNK> and feed hungry minds and to those nations like ours that enjoy relative <UNK> we say we can no longer afford <UNK> to suffering <UNK> our borders nor can we <UNK> the world s resources without <UNK> to effect for the world has changed and we must change with it as we consider the road that unfolds before us we remember with humble <UNK> those brave americans who at this very hour patrol far off <UNK> and distant mountains they have something to tell us today just as the fallen heroes who <UNK> in arlington <UNK> through the ages we honor them not only because they are <UNK> of our liberty but because they <UNK> the spirit of service a willingness to find meaning in something greater than themselves and yet at this moment a moment that will define a generation it is <UNK> this spirit that must <UNK> us all for as much as government can do and must do it is ultimately the faith and determination of the american people upon which this nation relies it is the <UNK> to take in a <UNK> when the <UNK> break the <UNK> of workers who would rather cut their hours than see a friend lose their job which sees us through our darkest hours it is the <UNK> s courage to storm a <UNK> <UNK> with <UNK> but also a parent s willingness to <UNK> a child that finally <UNK> our fate our challenges may be new the <UNK> with which we meet them may be new but those values upon which our success depends <UNK> and hard work courage and fair play tolerance and <UNK> loyalty and patriotism these things are old these things are true they have been the quiet force of progress throughout our history what is <UNK> then is a return to these truths what is required of us now is a new era of responsibility a recognition on the part of every american that we have duties to ourselves our nation and the world duties that we do not <UNK> accept but rather seize <UNK> firm in the knowledge that there is nothing so <UNK> to the spirit so <UNK> of our character than giving our all to a difficult task this is the price and the promise of citizenship this is the source of our confidence the knowledge that god calls on us to shape an uncertain destiny this is the meaning of our liberty and our creed why men and women and children of every race and every faith can join in celebration across this magnificent mall and why a man whose father less than 60 years ago might not have been served at a local <UNK> can now stand before you to take a most sacred oath so let us <UNK> this day with <UNK> of who we are and how far we have traveled in the year of america s birth in the <UNK> of months a small <UNK> of patriots <UNK> by <UNK> <UNK> on the shores of an icy river the capital was <UNK> the enemy was advancing the snow was stained with blood at a moment when the <UNK> of our revolution was most in doubt the father of our nation <UNK> these words be read to the people let it be told to the future world that in the depth of winter when nothing but hope and virtue could survive that the city and the country <UNK> at one common danger came forth to meet it america in the face of our common dangers in this winter of our hardship let us remember these timeless words with hope and virtue let us brave once more the icy <UNK> and endure what storms may come let it be said by our children s children that when we were tested we <UNK> to let this journey end that we did not turn back nor did we <UNK> and with eyes fixed on the horizon and god s grace upon us we carried forth that great gift of freedom and <UNK> it safely to future generations thank you god bless you and god bless the united states of america\n",
      "\n",
      "Actual Summary:\n",
      "so to all the other peoples and governments who are watching today from the grandest capitals to the small village where my father was born know that america is a friend of each nation and every man woman and child who seeks a future of peace and dignity and we are ready to lead once more\n",
      "\n",
      "Created Summary:\n",
      "so to all all other peoples the the the that that that that to to\n",
      "\n",
      "\n",
      "\n",
      "\n",
      "\n",
      " ----------------------------------------------------------------------------------------------------\n",
      "Actual Text:\n",
      "thank you thank you so much vice president <UNK> mr chief justice members of the united states congress distinguished guests and fellow citizens each time we gather to <UNK> a president we bear witness to the enduring strength of our constitution we affirm the promise of our democracy we recall that what <UNK> this nation together is not the <UNK> of our <UNK> or the <UNK> of our faith or the <UNK> of our names what makes us exceptional what makes us american is our allegiance to an idea <UNK> in a declaration made more than two centuries ago we hold these truths to be self evident that all men are created equal that they are <UNK> by their creator with certain <UNK> rights that among these are life liberty and the pursuit of happiness today we continue a never ending journey to bridge the meaning of those words with the <UNK> of our time for history tells us that while these truths may be self evident they ve never been self <UNK> that while freedom is a gift from god it must be secured by his people here on earth the patriots of <UNK> did not fight to replace the tyranny of a king with the <UNK> of a few or the rule of a <UNK> they gave to us a republic a government of and by and for the people <UNK> each generation to keep safe our founding creed and for more than 200 years we have through blood drawn by lash and blood drawn by <UNK> we learned that no union <UNK> on the principles of liberty and equality could survive half slave and half free we made ourselves anew and vowed to move forward together together we determined that a modern economy requires <UNK> and highways to <UNK> travel and commerce schools and colleges to train our workers together we <UNK> that a free market only thrives when there are rules to ensure competition and fair play together we resolved that a great nation must care for the vulnerable and protect its people from life s worst <UNK> and <UNK> through it all we have never <UNK> our <UNK> of <UNK> authority nor have we <UNK> to the <UNK> that all society s ills can be cured through government alone our celebration of initiative and enterprise our <UNK> on hard work and personal responsibility these are <UNK> in our character but we have always understood that when times change so must we that <UNK> to our founding principles requires new <UNK> to new challenges that <UNK> our individual freedoms ultimately requires collective action for the american people can no more meet the demands of today s world by acting alone than american soldiers could have met the forces of fascism or communism with muskets and militias no single person can train all the <UNK> and science <UNK> we ll need to <UNK> our children for the future or build the roads and <UNK> and research <UNK> that will bring new jobs and businesses to our shores now more than ever we must do these things together as one nation and one people this generation of americans has been tested by crises that <UNK> our resolve and <UNK> our <UNK> a <UNK> of war is now ending an economic <UNK> has begun america s possibilities are limitless for we possess all the qualities that this world without boundaries demands youth and drive diversity and <UNK> an endless capacity for risk and a gift for <UNK> my fellow americans we are made for this moment and we will seize it so long as we seize it together for we the people understand that our country can not succeed when a <UNK> few do very well and a growing many <UNK> make it we believe that america s prosperity must rest upon the broad shoulders of a rising middle class we know that america thrives when every person can find independence and pride in their work when the wages of honest labor liberate families from the <UNK> of hardship we are true to our creed when a little girl born into the <UNK> poverty knows that she has the same chance to succeed as <UNK> else because she is an american she is free and she is equal not just in the eyes of god but also in our own we understand that <UNK> programs are <UNK> to the needs of our time so we must harness new ideas and technology to <UNK> our government <UNK> our tax <UNK> reform our schools and <UNK> our citizens with the <UNK> they need to work harder learn more reach higher but while the means will change our purpose endures a nation that rewards the effort and determination of every single american that is what this moment requires that is what will give real meaning to our creed we the people still believe that every citizen deserves a basic measure of security and dignity we must make the hard choices to reduce the cost of health care and the size of our deficit but we reject the belief that america must choose between <UNK> for the generation that built this country and <UNK> in the generation that will build its future for we remember the lessons of our past when <UNK> years were spent in poverty and parents of a child with a <UNK> had nowhere to turn we do not believe that in this country freedom is reserved for the <UNK> or happiness for the few we recognize that no matter how responsibly we live our lives any one of us at any time may face a job <UNK> or a <UNK> <UNK> or a home <UNK> away in a <UNK> storm the commitments we make to each other through medicare and <UNK> and social security these things do not <UNK> our initiative they strengthen us they do not make us a nation of takers they free us to take the <UNK> that make this country great we the people still believe that our obligations as americans are not just to ourselves but to all posterity we will respond to the threat of <UNK> change knowing that the failure to do so would <UNK> our children and future generations some may still deny the <UNK> <UNK> of science but <UNK> can avoid the <UNK> <UNK> of raging <UNK> and <UNK> <UNK> and more powerful storms the path <UNK> <UNK> energy <UNK> will be long and sometimes difficult but america can not <UNK> this transition we must lead it we can not <UNK> to other nations the technology that will power new jobs and new industries we must claim its promise that s how we will maintain our economic <UNK> and our national <UNK> our <UNK> and <UNK> our <UNK> lands and snow <UNK> <UNK> that is how we will preserve our planet <UNK> to our care by god that s what will lend meaning to the creed our fathers once declared we the people still believe that enduring security and lasting peace do not require <UNK> war our brave men and women in <UNK> tempered by the flames of battle are unmatched in skill and courage our citizens <UNK> by the memory of those we have lost know too well the price that is paid for liberty the knowledge of their sacrifice will keep us forever vigilant against those who would do us harm but we are also <UNK> to those who <UNK> the peace and not just the war who turned sworn enemies into the surest of friends and we must carry those lessons into this time as well we will defend our people and uphold our values through strength of arms and rule of law we will show the courage to try and resolve our differences with other nations <UNK> not because we are <UNK> about the dangers we face but because engagement can more <UNK> lift <UNK> and fear america will remain the <UNK> of strong alliances in every corner of the globe and we will renew those institutions that extend our capacity to manage crisis abroad for no one has a greater stake in a peaceful world than its most powerful nation we will support democracy from <UNK> to <UNK> from the <UNK> to the middle <UNK> because our interests and our conscience compel us to act on behalf of those who long for freedom and we must be a source of hope to the poor the sick the <UNK> the victims of prejudice not out of <UNK> charity but because peace in our time requires the constant advance of those principles that our common creed <UNK> tolerance and opportunity human dignity and justice we the people declare today that the most evident of truths that all of us are created equal is the <UNK> that <UNK> us still just as it guided our forebears through <UNK> falls and <UNK> and <UNK> just as it guided all those men and women <UNK> and <UNK> who left <UNK> along this great mall to hear a <UNK> say that we can not walk alone to hear a king proclaim that our individual freedom is <UNK> bound to the freedom of every soul on earth it is now our generation s task to carry on what those <UNK> began for our journey is not complete until our <UNK> our mothers and <UNK> can earn a living equal to their efforts our journey is not complete until our <UNK> <UNK> and <UNK> are <UNK> like anyone else under the law for if we are truly created equal then surely the love we <UNK> to one another must be equal as well our journey is not complete until no citizen is forced to wait for hours to exercise the right to <UNK> our journey is not complete until we find a better way to welcome the striving hopeful immigrants who still see america as a land of opportunity until bright young students and <UNK> are <UNK> in our <UNK> rather than <UNK> from our country our journey is not complete until all our children from the streets of detroit to the hills of <UNK> to the quiet <UNK> of <UNK> know that they are cared for and <UNK> and always safe from harm that is our generation s task to make these words these rights these values of life and liberty and the pursuit of happiness real for every american being true to our founding documents does not require us to agree on every <UNK> of life it does not mean we all define liberty in <UNK> the same way or follow the same <UNK> path to happiness progress does not compel us to <UNK> centuries long debates about the role of government for all time but it does require us to act in our time for now decisions are upon us and we can not afford <UNK> we can not mistake <UNK> for principle or substitute <UNK> for politics or treat name calling as <UNK> debate we must act knowing that our work will be <UNK> we must act we must act knowing that today s victories will be only <UNK> and that it will be up to those who stand here in 4 years and <UNK> years and <UNK> years <UNK> to advance the timeless spirit once <UNK> to us in a <UNK> <UNK> hall my fellow americans the oath i have sworn before you today like the one <UNK> by others who serve in this capitol was an oath to god and country not party or faction and we must <UNK> <UNK> that pledge during the <UNK> of our service but the words i spoke today are not so different from the oath that is taken each time a <UNK> signs up for duty or an immigrant <UNK> her dream my oath is not so different from the pledge we all make to the flag that <UNK> above and that fills our hearts with pride they are the words of citizens and they <UNK> our greatest hope you and i as citizens have the power to set this country s course you and i as citizens have the obligation to shape the debates of our time not only with the votes we cast but with the voices we lift in defense of our most ancient values and enduring ideals let us each of us now embrace with solemn duty and awesome <UNK> what is our lasting birthright with common effort and common purpose with passion and dedication let us answer the call of history and carry into an uncertain future that precious light of freedom thank you god bless you and may he forever bless these united states of america\n",
      "\n",
      "Actual Summary:\n",
      "for the american people can no more meet the demands of today s world by acting alone than american soldiers could have met the forces of fascism or communism with muskets and militias\n",
      "\n",
      "Created Summary:\n",
      "for for american american can no no meet meet demands of of that s s\n",
      "\n",
      "\n",
      "\n",
      "\n",
      "\n",
      " ----------------------------------------------------------------------------------------------------\n",
      "Actual Text:\n",
      "chief justice <UNK> president carter president clinton president bush president obama fellow americans and people of the world thank you we the citizens of america are now joined in a great national effort to <UNK> our country and restore its promise for all of our people together we will <UNK> the course of america and the world for many many years to come we will face challenges we will confront <UNK> but we will get the job done every 4 years we gather on these steps to carry out the orderly and peaceful transfer of power and we are grateful to president obama and first <UNK> <UNK> obama for their gracious aid throughout this transition they have been magnificent thank you today s ceremony however has very special meaning because today we are not merely transferring power from one administration to another or from one party to another but we are transferring power from washington <UNK> and giving it back to you the people for too long a small group in our nation s capital has <UNK> the rewards of government while the people have borne the cost washington <UNK> but the people did not share in its wealth politicians prospered but the jobs left and the factories <UNK> the establishment protected itself but not the citizens of our country their victories have not been your victories their triumphs have not been your triumphs and while they celebrated in our nation s capital there was little to celebrate for struggling families all across our land that all changes starting right here and right now because this moment is your moment it belongs to you it belongs to everyone gathered here today and everyone watching all across america this is your day this is your celebration and this the united states of america is your country what truly matters is not which party <UNK> our government but whether our government is <UNK> by the people <UNK> <UNK> <UNK> will be remembered as the day the people became the rulers of this nation again the forgotten men and women of our country will be forgotten no longer everyone is <UNK> to you now you came by the tens of millions to become part of a historic movement the <UNK> of which the world has never seen before at the <UNK> of this movement is a crucial conviction that a nation exists to serve its citizens americans want great schools for their children safe <UNK> for their families and good jobs for themselves these are just and <UNK> demands of righteous people and a righteous public but for too many of our citizens a different reality exists mothers and children <UNK> in poverty in our inner <UNK> <UNK> out factories <UNK> like <UNK> across the <UNK> of our nation an education system <UNK> with <UNK> but which leaves our young and beautiful students <UNK> of all knowledge and the crime and the gangs and the drugs that have <UNK> too many lives and <UNK> our country of so much <UNK> potential this american <UNK> stops right here and stops right now we are one nation and their pain is our pain their dreams are our dreams and their success will be our success we share one heart one home and one glorious destiny the oath of office i take today is an oath of allegiance to all americans for many decades we ve enriched foreign industry at the <UNK> of american industry <UNK> the armies of other countries while <UNK> for the very <UNK> <UNK> of our military we ve defended other nations borders while <UNK> to defend our own and spent trillions and trillions of dollars <UNK> while america s <UNK> has fallen into <UNK> and <UNK> we ve made other countries rich while the wealth strength and confidence of our country has <UNK> over the horizon one by one the factories shuttered and left our shores with not even a thought about the millions and millions of american workers that were left behind the wealth of our middle class has been <UNK> from their homes and then <UNK> all across the world but that is the past and now we are looking only to the future we <UNK> here today are <UNK> a new <UNK> to be heard in every city in every foreign capital and in every hall of power from this day forward a new vision will govern our land from this this day forward it s going to be only america first america first every <UNK> on trade on taxes on <UNK> on foreign affairs will be made to benefit american workers and american families we must protect our borders from the <UNK> of other countries making our <UNK> <UNK> our <UNK> and <UNK> our jobs protection will lead to great prosperity and strength i will fight for you with every breath in my body and i will never ever let you down america will start winning again winning like never before we will bring back our jobs we will bring back our borders we will bring back our wealth and we will bring back our dreams we will build new roads and highways and bridges and airports and <UNK> and <UNK> all across our wonderful nation we will get our people off of welfare and back to work rebuilding our country with american hands and american labor we will follow two simple rules <UNK> american and <UNK> american we will seek friendship and good will with the nations of the world but we do so with the understanding that it is the right of all nations to put their own interests first we do not seek to impose our way of life on anyone but rather to let it shine as an example we will shine for everyone to follow we will <UNK> old alliances and form new <UNK> and unite the <UNK> world against <UNK> <UNK> terrorism which we will <UNK> <UNK> from the face of the earth at the <UNK> of our politics will be a total allegiance to the united states of america and through our loyalty to our country we will <UNK> our loyalty to each other when you open your heart to patriotism there is no room for prejudice the bible tells us how good and <UNK> it is when god s people live together in unity we must speak our minds openly debate our <UNK> <UNK> but always pursue <UNK> when america is united america is <UNK> <UNK> there should be no fear we are protected and we will always be protected we will be protected by the great men and women of our military and law <UNK> and most <UNK> we will be protected by god finally we must think big and dream even bigger in america we understand that a nation is only living as long as it is striving we will no longer accept politicians who are all talk and no action <UNK> <UNK> but never doing anything about it the time for <UNK> talk is over now <UNK> the hour of action do not allow anyone to tell you that it can not be done no challenge can match the heart and fight and spirit of america we will not fail our country will thrive and prosper again we stand at the birth of a new millennium ready to <UNK> the <UNK> of space to free the earth from the <UNK> of <UNK> and to harness the <UNK> industries and technologies of tomorrow a new national pride will <UNK> our souls lift our sights and heal our divisions it s time to remember that old wisdom our soldiers will never forget that whether we are black or <UNK> or white we all <UNK> the same <UNK> blood of patriots we all enjoy the same glorious freedoms and we all salute the same great american flag and whether a child is born in the <UNK> <UNK> of detroit or the <UNK> <UNK> of <UNK> they look up at the same night <UNK> they fill their heart with the same dreams and they are infused with the breath of life by the same almighty creator so to all americans in every city <UNK> and far small and large from mountain to mountain from ocean to ocean hear these words you will never be <UNK> again your voice your hopes and your dreams will define our american destiny and your courage and goodness and love will forever guide us along the way together we will make america strong again we will make america <UNK> again we will make america proud again we will make america safe again and yes together we will make america great again thank you god bless you and god bless america thank you god bless america\n",
      "\n",
      "Actual Summary:\n",
      "we will get our people off of welfare and back to work rebuilding our country with american hands and american labor\n",
      "\n",
      "Created Summary:\n",
      "we will get get people off off and welfare back back that that our our\n",
      "\n",
      "\n"
     ]
    }
   ],
   "source": [
    "# show results\n",
    "summarizer_model_utils.sample_results(preds,\n",
    "                                      ind2word,\n",
    "                                      word2ind,\n",
    "                                      converted_summaries[:50],\n",
    "                                      converted_texts[:50])"
   ]
  },
  {
   "cell_type": "markdown",
   "metadata": {
    "colab": {
     "autoexec": {
      "startup": false,
      "wait_interval": 0
     }
    },
    "colab_type": "code",
    "id": "pdhvrPQ1MRzK"
   },
   "source": [
    "# Conclusion\n",
    "\n",
    "Generally I am not impressed by how well the model works. \n",
    "We only used a limited amount of data, trained it for a limited amount of time and used nearly random hyperparameters and it still delivers good results. \n",
    "\n",
    "However, we are clearly overfitting the training data and the model does not perfectly generalize.\n",
    "\n",
    "Therefore it would be really interesting to scale it up and see how it performs. \n",
    "\n"
   ]
  },
  {
   "cell_type": "code",
   "execution_count": null,
   "metadata": {},
   "outputs": [],
   "source": []
  }
 ],
 "metadata": {
  "accelerator": "GPU",
  "anaconda-cloud": {},
  "colab": {
   "collapsed_sections": [],
   "default_view": {},
   "name": "summarizer_headlines.ipynb",
   "provenance": [],
   "version": "0.3.2",
   "views": {}
  },
  "kernelspec": {
   "display_name": "Python 3",
   "language": "python",
   "name": "python3"
  },
  "language_info": {
   "codemirror_mode": {
    "name": "ipython",
    "version": 3
   },
   "file_extension": ".py",
   "mimetype": "text/x-python",
   "name": "python",
   "nbconvert_exporter": "python",
   "pygments_lexer": "ipython3",
   "version": "3.6.5"
  }
 },
 "nbformat": 4,
 "nbformat_minor": 1
}
